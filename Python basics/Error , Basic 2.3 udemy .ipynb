{
 "cells": [
  {
   "cell_type": "markdown",
   "metadata": {},
   "source": [
    "# Errors : Syntax Error , Name error - thrown when there are variables which are unknown to tyhe compiler , Key Error , Zero division error "
   ]
  },
  {
   "cell_type": "markdown",
   "metadata": {},
   "source": [
    "# Value Error"
   ]
  },
  {
   "cell_type": "code",
   "execution_count": 6,
   "metadata": {},
   "outputs": [
    {
     "name": "stdout",
     "output_type": "stream",
     "text": [
      "What is your age ?fsvg\n"
     ]
    },
    {
     "ename": "ValueError",
     "evalue": "invalid literal for int() with base 10: 'fsvg'",
     "output_type": "error",
     "traceback": [
      "\u001b[1;31m---------------------------------------------------------------------------\u001b[0m",
      "\u001b[1;31mValueError\u001b[0m                                Traceback (most recent call last)",
      "\u001b[1;32m<ipython-input-6-5ce5b25cf3c0>\u001b[0m in \u001b[0;36m<module>\u001b[1;34m\u001b[0m\n\u001b[1;32m----> 1\u001b[1;33m \u001b[0mage\u001b[0m \u001b[1;33m=\u001b[0m \u001b[0mint\u001b[0m\u001b[1;33m(\u001b[0m\u001b[0minput\u001b[0m\u001b[1;33m(\u001b[0m\u001b[1;34m\"What is your age ?\"\u001b[0m\u001b[1;33m)\u001b[0m\u001b[1;33m)\u001b[0m \u001b[1;31m# a non integer value will throw a value error\u001b[0m\u001b[1;33m\u001b[0m\u001b[1;33m\u001b[0m\u001b[0m\n\u001b[0m\u001b[0;32m      2\u001b[0m \u001b[0mprint\u001b[0m\u001b[1;33m(\u001b[0m\u001b[0mage\u001b[0m\u001b[1;33m)\u001b[0m\u001b[1;33m\u001b[0m\u001b[1;33m\u001b[0m\u001b[0m\n",
      "\u001b[1;31mValueError\u001b[0m: invalid literal for int() with base 10: 'fsvg'"
     ]
    }
   ],
   "source": [
    "age = int(input(\"What is your age ?\")) # a non integer value will throw a value error\n",
    "print(age)"
   ]
  },
  {
   "cell_type": "code",
   "execution_count": 8,
   "metadata": {},
   "outputs": [
    {
     "name": "stdout",
     "output_type": "stream",
     "text": [
      "What is your age ?fsdv\n",
      "Please Enter a number\n"
     ]
    }
   ],
   "source": [
    "# handling errors by wrapping all the errors in the try block , and if any error raises catch them in except block\n",
    "try:\n",
    "    age = int(input(\"What is your age ?\")) # a non integer value will throw a value error\n",
    "    print(age)\n",
    "    \n",
    "except:\n",
    "    print(\"Please Enter a number\")\n",
    "    "
   ]
  },
  {
   "cell_type": "code",
   "execution_count": 10,
   "metadata": {},
   "outputs": [
    {
     "name": "stdout",
     "output_type": "stream",
     "text": [
      "What is your age ?zsgvf\n",
      "Please Enter a number\n",
      "What is your age ?sfgsg\n",
      "Please Enter a number\n",
      "What is your age ?5\n",
      "5\n",
      "THank YOu!\n"
     ]
    }
   ],
   "source": [
    "# Asking input till an integer is not entered\n",
    "while True:\n",
    "    try:\n",
    "        age = int(input(\"What is your age ?\")) # a non integer value will throw a value error\n",
    "        print(age)\n",
    "    \n",
    "    except:\n",
    "        print(\"Please Enter a number\")\n",
    "    \n",
    "    else : \n",
    "        print(\"THank YOu!\")\n",
    "        break"
   ]
  },
  {
   "cell_type": "markdown",
   "metadata": {},
   "source": [
    "# We can make except blocks for catching different types of errors ,except block is going to run only once , in case we make many except block for same error . "
   ]
  },
  {
   "cell_type": "code",
   "execution_count": 13,
   "metadata": {},
   "outputs": [
    {
     "name": "stdout",
     "output_type": "stream",
     "text": [
      "What is your age ?adsfsdf\n",
      "Please Enter a number\n",
      "What is your age ?sfdf\n",
      "Please Enter a number\n",
      "What is your age ?0\n",
      "0\n",
      "Please enter age higher than 0\n",
      "What is your age ?5\n",
      "5\n",
      "THank YOu!\n"
     ]
    }
   ],
   "source": [
    "while True:\n",
    "    try:\n",
    "        age = int(input(\"What is your age ?\")) # a non integer value will throw a value error\n",
    "        print(age)\n",
    "        10/age\n",
    "    \n",
    "    except ValueError:\n",
    "        print(\"Please Enter a number\")\n",
    "    \n",
    "    except ZeroDivisionError:\n",
    "        print(\"Please enter age higher than 0\")\n",
    "    \n",
    "    else : \n",
    "        print(\"THank YOu!\")\n",
    "        break"
   ]
  },
  {
   "cell_type": "markdown",
   "metadata": {},
   "source": [
    "# as _____ will give that an object and while printing it will show the error"
   ]
  },
  {
   "cell_type": "code",
   "execution_count": 16,
   "metadata": {},
   "outputs": [
    {
     "name": "stdout",
     "output_type": "stream",
     "text": [
      "Please input number unsupported operand type(s) for +: 'int' and 'str'\n"
     ]
    }
   ],
   "source": [
    "def sum(num1 ,n2):\n",
    "    try:\n",
    "        return num1+n2\n",
    "    except TypeError as err:\n",
    "        print(f\"Please input number {err}\" )\n",
    "        \n",
    "sum(22,\"65\")"
   ]
  },
  {
   "cell_type": "markdown",
   "metadata": {},
   "source": [
    "# Wrapping errors together"
   ]
  },
  {
   "cell_type": "code",
   "execution_count": 17,
   "metadata": {},
   "outputs": [
    {
     "name": "stdout",
     "output_type": "stream",
     "text": [
      "Please input number unsupported operand type(s) for +: 'int' and 'str'\n"
     ]
    }
   ],
   "source": [
    "def sum(num1 ,n2):\n",
    "    try:\n",
    "        return num1+n2\n",
    "    except (TypeError , ZeroDivisionError) as err:\n",
    "        print(f\"Please input number {err}\" )\n",
    "        \n",
    "sum(22,\"65\")"
   ]
  },
  {
   "cell_type": "markdown",
   "metadata": {},
   "source": [
    "# finally - runs when all block gets succedded without any fail"
   ]
  },
  {
   "cell_type": "code",
   "execution_count": 1,
   "metadata": {},
   "outputs": [
    {
     "name": "stdout",
     "output_type": "stream",
     "text": [
      "What is your age ?0\n",
      "0\n",
      "PLease enter age gretaer than zero\n",
      "ok , I am done now !\n",
      "What is your age ?10\n",
      "10\n",
      "THank YOu!\n",
      "ok , I am done now !\n"
     ]
    }
   ],
   "source": [
    "# Asking input till an integer is not entered\n",
    "while True:\n",
    "    try:\n",
    "        age = int(input(\"What is your age ?\")) # a non integer value will throw a value error\n",
    "        print(age)\n",
    "        10/age\n",
    "    \n",
    "    except(TypeError):\n",
    "        print(\"Please Enter a number\")\n",
    "        \n",
    "    except(ZeroDivisionError):\n",
    "        print(\"PLease enter age gretaer than zero\")\n",
    "\n",
    "    \n",
    "    else : \n",
    "        print(\"THank YOu!\")\n",
    "        break\n",
    "    finally : \n",
    "        print('ok , I am done now !')"
   ]
  },
  {
   "cell_type": "markdown",
   "metadata": {},
   "source": [
    "# We can raise our own errors"
   ]
  },
  {
   "cell_type": "code",
   "execution_count": 2,
   "metadata": {},
   "outputs": [
    {
     "name": "stdout",
     "output_type": "stream",
     "text": [
      "What is your age ?5\n",
      "5\n",
      "ok , I am done now !\n"
     ]
    },
    {
     "ename": "ValueError",
     "evalue": "Hey cut it over",
     "output_type": "error",
     "traceback": [
      "\u001b[1;31m---------------------------------------------------------------------------\u001b[0m",
      "\u001b[1;31mValueError\u001b[0m                                Traceback (most recent call last)",
      "\u001b[1;32m<ipython-input-2-2cbb6dfb4f89>\u001b[0m in \u001b[0;36m<module>\u001b[1;34m\u001b[0m\n\u001b[0;32m      4\u001b[0m         \u001b[0mprint\u001b[0m\u001b[1;33m(\u001b[0m\u001b[0mage\u001b[0m\u001b[1;33m)\u001b[0m\u001b[1;33m\u001b[0m\u001b[1;33m\u001b[0m\u001b[0m\n\u001b[0;32m      5\u001b[0m         \u001b[1;36m10\u001b[0m\u001b[1;33m/\u001b[0m\u001b[0mage\u001b[0m\u001b[1;33m\u001b[0m\u001b[1;33m\u001b[0m\u001b[0m\n\u001b[1;32m----> 6\u001b[1;33m         \u001b[1;32mraise\u001b[0m \u001b[0mValueError\u001b[0m\u001b[1;33m(\u001b[0m\u001b[1;34m\"Hey cut it over\"\u001b[0m\u001b[1;33m)\u001b[0m\u001b[1;33m\u001b[0m\u001b[1;33m\u001b[0m\u001b[0m\n\u001b[0m\u001b[0;32m      7\u001b[0m \u001b[1;33m\u001b[0m\u001b[0m\n\u001b[0;32m      8\u001b[0m     \u001b[1;32mexcept\u001b[0m\u001b[1;33m(\u001b[0m\u001b[0mTypeError\u001b[0m\u001b[1;33m)\u001b[0m\u001b[1;33m:\u001b[0m\u001b[1;33m\u001b[0m\u001b[1;33m\u001b[0m\u001b[0m\n",
      "\u001b[1;31mValueError\u001b[0m: Hey cut it over"
     ]
    }
   ],
   "source": [
    "\n",
    "while True:\n",
    "    try:\n",
    "        age = int(input(\"What is your age ?\")) # a non integer value will throw a value error\n",
    "        print(age)\n",
    "        10/age\n",
    "        raise ValueError(\"Hey cut it over\") # this will throw an error , when we run this code\n",
    "    \n",
    "    except(TypeError):\n",
    "        print(\"Please Enter a number\")\n",
    "        \n",
    "    except(ZeroDivisionError):\n",
    "        print(\"PLease enter age gretaer than zero\")\n",
    "\n",
    "    \n",
    "    else : \n",
    "        print(\"THank YOu!\")\n",
    "        break\n",
    "    finally : \n",
    "        print('ok , I am done now !')\n"
   ]
  },
  {
   "cell_type": "code",
   "execution_count": null,
   "metadata": {},
   "outputs": [],
   "source": []
  }
 ],
 "metadata": {
  "kernelspec": {
   "display_name": "Python 3",
   "language": "python",
   "name": "python3"
  },
  "language_info": {
   "codemirror_mode": {
    "name": "ipython",
    "version": 3
   },
   "file_extension": ".py",
   "mimetype": "text/x-python",
   "name": "python",
   "nbconvert_exporter": "python",
   "pygments_lexer": "ipython3",
   "version": "3.9.4"
  }
 },
 "nbformat": 4,
 "nbformat_minor": 4
}
