{
 "cells": [
  {
   "cell_type": "code",
   "execution_count": 8,
   "metadata": {},
   "outputs": [
    {
     "name": "stdout",
     "output_type": "stream",
     "text": [
      "NAME IS ,ANAND\n",
      "<__main__.Person object at 0x0000025D04F3B820>\n",
      "2598538295328\n",
      "0x25d04f3b820\n"
     ]
    }
   ],
   "source": [
    "class Person:\n",
    "    name=\"ANAND\"\n",
    "    def print1(self):\n",
    "        print(\"NAME IS ,\"+self.name)\n",
    "        \n",
    "p=Person()\n",
    "p.print1()\n",
    "print(p)\n",
    "print(id(p))\n",
    "print(hex(id(p)))"
   ]
  },
  {
   "cell_type": "markdown",
   "metadata": {},
   "source": [
    "# SPECIAL METHODS IN PYTHON ALSO KNOWN AS DUNDERS OR MAGIC METHODS , NOT A CONSTRUCTOR BUT A HOOK  OR A SIDE EFFECT WHEN A NEW OBJECT IS CREATED"
   ]
  },
  {
   "cell_type": "code",
   "execution_count": 10,
   "metadata": {},
   "outputs": [
    {
     "name": "stdout",
     "output_type": "stream",
     "text": [
      "NEW OBJECT CREATED\n",
      "NAME IS ,ANAND\n"
     ]
    }
   ],
   "source": [
    "class Person:\n",
    "    name=\"ANAND\"\n",
    "    def __init__(self):\n",
    "        print(\"NEW OBJECT CREATED\")\n",
    "    def print1(self):\n",
    "        print(\"NAME IS ,\"+self.name)\n",
    "        \n",
    "p=Person()\n",
    "p.print1()"
   ]
  },
  {
   "cell_type": "markdown",
   "metadata": {},
   "source": [
    "# WE CAN ACCEPT ARGUMENTS IN OUR init METHOD"
   ]
  },
  {
   "cell_type": "code",
   "execution_count": 11,
   "metadata": {},
   "outputs": [
    {
     "name": "stdout",
     "output_type": "stream",
     "text": [
      "NAME IS ,lol\n"
     ]
    }
   ],
   "source": [
    "class Person:\n",
    "    name=\"ANAND RAJ\"\n",
    "    def __init__(self,name):\n",
    "        self.name=name\n",
    "    def print1(self):\n",
    "        print(\"NAME IS ,\"+self.name)\n",
    "        \n",
    "p=Person(\"lol\")\n",
    "p.print1()"
   ]
  },
  {
   "cell_type": "markdown",
   "metadata": {},
   "source": [
    "# EVERY DUNDER STARTS WITH __ , EVENTS FOR LIKE CREATION (__init__(self)) , DELETION(__del__(self)) , STRING(__str__(self)) , ADDITION(__add__(self,other)) AND SUBSTRACTION , THERE ARE PREDEFINED DUNDERS IN PYTHON"
   ]
  },
  {
   "cell_type": "code",
   "execution_count": 12,
   "metadata": {},
   "outputs": [],
   "source": [
    "class Car:\n",
    "    def __init__(self,model,mileage):\n",
    "        self.model=model\n",
    "        self.mileage=mileage\n",
    "    \n",
    "    def __str__(self):\n",
    "        return\"{} {}\".format(self.model,self.mileage)\n",
    "    \n",
    "    def __repr__(self):\n",
    "        return\"{}\".format(self.model)\n",
    "    \n",
    "    def __eq__(self,other):\n",
    "        return self.mileage == other.mileage\n",
    "    \n",
    "    def __add__(self,other):\n",
    "        return self.mileage + other.mileage"
   ]
  },
  {
   "cell_type": "code",
   "execution_count": 13,
   "metadata": {},
   "outputs": [],
   "source": [
    "c1=Car(\"a\",30)\n",
    "c2 = Car('b',40)"
   ]
  },
  {
   "cell_type": "code",
   "execution_count": 14,
   "metadata": {},
   "outputs": [
    {
     "data": {
      "text/plain": [
       "70"
      ]
     },
     "execution_count": 14,
     "metadata": {},
     "output_type": "execute_result"
    }
   ],
   "source": [
    "c1+c2"
   ]
  },
  {
   "cell_type": "code",
   "execution_count": 16,
   "metadata": {},
   "outputs": [
    {
     "data": {
      "text/plain": [
       "True"
      ]
     },
     "execution_count": 16,
     "metadata": {},
     "output_type": "execute_result"
    }
   ],
   "source": [
    "c1==c2"
   ]
  },
  {
   "cell_type": "markdown",
   "metadata": {},
   "source": [
    "# MAKING cout<< WORK IN PYTHON"
   ]
  },
  {
   "cell_type": "code",
   "execution_count": 24,
   "metadata": {},
   "outputs": [],
   "source": [
    "class Ostream:\n",
    "    def __lshift__(self,other):\n",
    "        print(other,end = ' ')\n",
    "        return self\n",
    "    \n",
    "cout = Ostream()"
   ]
  },
  {
   "cell_type": "code",
   "execution_count": 26,
   "metadata": {},
   "outputs": [
    {
     "name": "stdout",
     "output_type": "stream",
     "text": [
      "ANAND RAJ "
     ]
    },
    {
     "data": {
      "text/plain": [
       "<__main__.Ostream at 0x25d04eeab50>"
      ]
     },
     "execution_count": 26,
     "metadata": {},
     "output_type": "execute_result"
    }
   ],
   "source": [
    "cout << \"ANAND\" <<\"RAJ\""
   ]
  },
  {
   "cell_type": "markdown",
   "metadata": {},
   "source": [
    "# INHERITANCE"
   ]
  },
  {
   "cell_type": "code",
   "execution_count": null,
   "metadata": {},
   "outputs": [],
   "source": []
  },
  {
   "cell_type": "code",
   "execution_count": null,
   "metadata": {},
   "outputs": [],
   "source": []
  },
  {
   "cell_type": "code",
   "execution_count": null,
   "metadata": {},
   "outputs": [],
   "source": []
  },
  {
   "cell_type": "code",
   "execution_count": null,
   "metadata": {},
   "outputs": [],
   "source": []
  },
  {
   "cell_type": "code",
   "execution_count": null,
   "metadata": {},
   "outputs": [],
   "source": []
  }
 ],
 "metadata": {
  "kernelspec": {
   "display_name": "Python 3",
   "language": "python",
   "name": "python3"
  },
  "language_info": {
   "codemirror_mode": {
    "name": "ipython",
    "version": 3
   },
   "file_extension": ".py",
   "mimetype": "text/x-python",
   "name": "python",
   "nbconvert_exporter": "python",
   "pygments_lexer": "ipython3",
   "version": "3.8.2"
  }
 },
 "nbformat": 4,
 "nbformat_minor": 4
}
