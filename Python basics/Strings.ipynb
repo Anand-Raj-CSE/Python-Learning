{
 "cells": [
  {
   "cell_type": "code",
   "execution_count": 1,
   "metadata": {},
   "outputs": [
    {
     "name": "stdout",
     "output_type": "stream",
     "text": [
      "10\n"
     ]
    }
   ],
   "source": [
    "# STRINGS IN PYTHON\n",
    "# len() FUNCTION IS USED HERE FOR CALCULATING THE LENGTH OF STRING\n",
    "A = \"AANAND RAJ\"\n",
    "print(len(A))"
   ]
  },
  {
   "cell_type": "code",
   "execution_count": 2,
   "metadata": {},
   "outputs": [
    {
     "ename": "TypeError",
     "evalue": "'str' object does not support item assignment",
     "output_type": "error",
     "traceback": [
      "\u001b[1;31m---------------------------------------------------------------------------\u001b[0m",
      "\u001b[1;31mTypeError\u001b[0m                                 Traceback (most recent call last)",
      "\u001b[1;32m<ipython-input-2-1d602a24ddd3>\u001b[0m in \u001b[0;36m<module>\u001b[1;34m\u001b[0m\n\u001b[0;32m      1\u001b[0m \u001b[1;31m# STRINGS ARE NON MUTABLE ION PYTHON . WE CANNOT WRITE AS\u001b[0m\u001b[1;33m\u001b[0m\u001b[1;33m\u001b[0m\u001b[1;33m\u001b[0m\u001b[0m\n\u001b[1;32m----> 2\u001b[1;33m \u001b[0mA\u001b[0m\u001b[1;33m[\u001b[0m\u001b[1;36m2\u001b[0m\u001b[1;33m]\u001b[0m\u001b[1;33m=\u001b[0m\u001b[1;34m\"A\"\u001b[0m\u001b[1;33m\u001b[0m\u001b[1;33m\u001b[0m\u001b[0m\n\u001b[0m\u001b[0;32m      3\u001b[0m \u001b[0mprint\u001b[0m\u001b[1;33m(\u001b[0m\u001b[0mA\u001b[0m\u001b[1;33m)\u001b[0m\u001b[1;33m\u001b[0m\u001b[1;33m\u001b[0m\u001b[0m\n",
      "\u001b[1;31mTypeError\u001b[0m: 'str' object does not support item assignment"
     ]
    }
   ],
   "source": [
    "# STRINGS ARE NON MUTABLE ION PYTHON . WE CANNOT WRITE AS \n",
    "A[2]=\"A\"\n",
    "print(A)"
   ]
  },
  {
   "cell_type": "code",
   "execution_count": 3,
   "metadata": {},
   "outputs": [
    {
     "data": {
      "text/plain": [
       "'ANAND RAJ'"
      ]
     },
     "execution_count": 3,
     "metadata": {},
     "output_type": "execute_result"
    }
   ],
   "source": [
    "# WE CAN UPDATE THE SAME OBJECT BY NEWER DATA\n",
    "A=\"ANAND RAJ\"\n",
    "A"
   ]
  },
  {
   "cell_type": "code",
   "execution_count": 4,
   "metadata": {},
   "outputs": [
    {
     "name": "stdout",
     "output_type": "stream",
     "text": [
      "A\n",
      "N\n",
      "A\n",
      "N\n",
      "D\n",
      " \n",
      "R\n",
      "A\n",
      "J\n"
     ]
    }
   ],
   "source": [
    "# WE CAN ITERATE OVER TEH STRING ALSO BY USING FOR AND FOR EACH LOOP\n",
    "for i in range(len(A)):\n",
    "    print(A[i])"
   ]
  },
  {
   "cell_type": "code",
   "execution_count": 5,
   "metadata": {},
   "outputs": [
    {
     "name": "stdout",
     "output_type": "stream",
     "text": [
      "ANAND RAJANAND RAJANAND RAJANAND RAJANAND RAJ\n"
     ]
    }
   ],
   "source": [
    "print(A*5) # HERE *5 CREATES MULTIPLE COPIES OF THE STRING"
   ]
  },
  {
   "cell_type": "code",
   "execution_count": 6,
   "metadata": {},
   "outputs": [
    {
     "name": "stdout",
     "output_type": "stream",
     "text": [
      "ANAND RAJKRISHNA\n"
     ]
    }
   ],
   "source": [
    "# WE CAN ALSO CONCATINATE TWO STRINGS BY USING \"+\" OPERATOR\n",
    "B=\"KRISHNA\"\n",
    "print(A+B)"
   ]
  },
  {
   "cell_type": "code",
   "execution_count": 7,
   "metadata": {},
   "outputs": [
    {
     "data": {
      "text/plain": [
       "'NN '"
      ]
     },
     "execution_count": 7,
     "metadata": {},
     "output_type": "execute_result"
    }
   ],
   "source": [
    "#SLICING ON STRINGS AS : STRING [STARTING:ENDING+1:STEP]\n",
    "A[1:-2:2]"
   ]
  },
  {
   "cell_type": "code",
   "execution_count": 8,
   "metadata": {},
   "outputs": [
    {
     "name": "stdout",
     "output_type": "stream",
     "text": [
      "NO\n",
      "YES\n"
     ]
    }
   ],
   "source": [
    "# MEMBERSHIP OPERATOR IN STRINGS\n",
    "\n",
    "\"ND\" in A\n",
    "\n",
    "B=\"RAj\"\n",
    "if B in A :\n",
    "    print(\"YES\")\n",
    "else:\n",
    "    print(\"NO\")\n",
    "\n",
    "    \n",
    "# WE CAN USE not in ALSO AS :\n",
    "B=\"RAj\"\n",
    "if B not in A :\n",
    "    print(\"YES\")\n",
    "else:\n",
    "    print(\"NO\")\n",
    "    \n",
    "    \n",
    "# STRING FORMATTING i.e. %s HAS BEEN DISCUSSED IN 3RD COLUMN OF THIS ipnb"
   ]
  },
  {
   "cell_type": "code",
   "execution_count": 9,
   "metadata": {},
   "outputs": [
    {
     "name": "stdout",
     "output_type": "stream",
     "text": [
      "THIS IS EXAMPLE\n",
      "OF\n",
      "TRIPLE QUOTES\n"
     ]
    }
   ],
   "source": [
    "# TRIPLE QUOTES ARE USED TO WORK WITH STRINGS ON DIFFERENT LINES\n",
    "A = \"\"\"THIS IS EXAMPLE\n",
    "OF\n",
    "TRIPLE QUOTES\"\"\"\n",
    "print(A)\n"
   ]
  },
  {
   "cell_type": "code",
   "execution_count": 10,
   "metadata": {},
   "outputs": [
    {
     "name": "stdout",
     "output_type": "stream",
     "text": [
      "['THIS', 'IS', 'EXAMPLE', 'OF', 'TRIPLE', 'QUOTES']\n",
      "['THIS IS EXAMPLE', 'OF', 'TRIPLE QUOTES']\n",
      "<class 'list'>\n"
     ]
    }
   ],
   "source": [
    "# To split the string we use split() function and splitlines() is another method which will split the paragraph along lines\n",
    "l = A.split()\n",
    "print(l)\n",
    "l = A.splitlines()\n",
    "print(l)\n",
    "print(type(l))"
   ]
  },
  {
   "cell_type": "code",
   "execution_count": 12,
   "metadata": {},
   "outputs": [
    {
     "data": {
      "text/plain": [
       "'this is example\\nof\\ntriple quotes'"
      ]
     },
     "execution_count": 12,
     "metadata": {},
     "output_type": "execute_result"
    }
   ],
   "source": [
    "#WE HAVE upper() and lower() functions to change into lower and upper casess\n",
    "A=A.lower()\n",
    "A"
   ]
  },
  {
   "cell_type": "code",
   "execution_count": 16,
   "metadata": {},
   "outputs": [
    {
     "name": "stdout",
     "output_type": "stream",
     "text": [
      "Mango Shake      \n",
      "17\n",
      "Mango Shake\n",
      "11\n",
      "['Mango', 'Shake']\n"
     ]
    }
   ],
   "source": [
    "# Removing all whitre spaces \n",
    "shake = \"     Mango Shake      \"\n",
    "s2=shake\n",
    "#lstrip() method removes the leading white space\n",
    "shake = shake.lstrip()\n",
    "print(shake)\n",
    "print(len(shake))\n",
    "# rstrip() method removes the ending white space\n",
    "shake=shake.rstrip()\n",
    "print(shake)\n",
    "print(len(shake))\n",
    "\n",
    "#TO REMOVE ALL TRHE LEADING AND THE TRAILING EDGES WE USE split() method\n",
    "s2=s2.split()\n",
    "print(s2)"
   ]
  },
  {
   "cell_type": "code",
   "execution_count": 19,
   "metadata": {},
   "outputs": [
    {
     "data": {
      "text/plain": [
       "False"
      ]
     },
     "execution_count": 19,
     "metadata": {},
     "output_type": "execute_result"
    }
   ],
   "source": [
    "# IF WE WANT TO CHECK A STRING CONTAINS ONLY NUMBERS , WE USE isdigit() METHOD AND TO CHECK FOR CHARACTERS WE USE isalpha()\n",
    "\n",
    "A='99665435A'\n",
    "A.isdigit()\n",
    "#b=\"dcjhdhbckjsbcd\"\n",
    "#b.isalpha()"
   ]
  },
  {
   "cell_type": "code",
   "execution_count": 20,
   "metadata": {},
   "outputs": [
    {
     "data": {
      "text/plain": [
       "True"
      ]
     },
     "execution_count": 20,
     "metadata": {},
     "output_type": "execute_result"
    }
   ],
   "source": [
    "b=\"dcjhdhbckjsbcd\"\n",
    "b.isalpha()"
   ]
  },
  {
   "cell_type": "code",
   "execution_count": 27,
   "metadata": {},
   "outputs": [
    {
     "name": "stdout",
     "output_type": "stream",
     "text": [
      "False\n",
      "True\n",
      "False\n"
     ]
    }
   ],
   "source": [
    "# FOR CHECKING ALPHANUMERIC WE USE METHOD isalnum()\n",
    "c='ckijcbejvcbkjbvfd@#$'\n",
    "print(c.isalnum())\n",
    "\n",
    "# WE CAN ALSO CHECK FOR LOWER CASE BY islower() AND UPPER CASE BY isupper() METHOD\n",
    "print(c.islower())\n",
    "\n",
    "# WE CAN CHECK FOR ONLY WHITE SPACES BY USING FUNCTION isspace()\n",
    "print(c.isspace())"
   ]
  },
  {
   "cell_type": "code",
   "execution_count": 34,
   "metadata": {},
   "outputs": [
    {
     "name": "stdout",
     "output_type": "stream",
     "text": [
      "2\n",
      "37\n",
      "-1\n",
      "37\n"
     ]
    }
   ],
   "source": [
    "A=\"I WANT TO HAVE A FIT BODY AND I ALSO WANT TO BE HEALTHY.\"\n",
    "print(A.find(\"WANT\"))# find() METHOD GIVES THE POSITION OF FIRST OCCURANCE OF WORD IN THE STRING\n",
    "\n",
    "print(A.rfind(\"WANT\"))    # rfind() gives the position of first occcurance from right side.\n",
    "\n",
    "# BOTH FUNCTIONS RETURN -1 IF THE STRING IS NOT PRESENT.\n",
    "print(A.find(\"GIRLFRIEND\")) #LOL\n",
    "\n",
    "# BOTH FUNCTION HAVE TWO EXTRA PARAMETERS AS (string,starting search from,ending search at)\n",
    "print(A.find(\"WANT\",30,len(A)))\n",
    "\n",
    "# THERE IS A SIMILAR FUNCTION AS index() BUT THE DIIFERENCE IS THAT find() RETURNS -1 WHEN THE STRING IS NOT FOUND BUT\n",
    "# index() THROWS AN EXCEPTION IN SUCH CASES.\n",
    "# index() WORKS SAME AS find() IN CORRECT CASES , IT ALSO HAS THE SAME TWO PARAMETERS AS find() FUNCTION HAS.\n"
   ]
  },
  {
   "cell_type": "code",
   "execution_count": 37,
   "metadata": {},
   "outputs": [
    {
     "name": "stdout",
     "output_type": "stream",
     "text": [
      "I ADMIRE TO HAVE A FIT BODY AND I ALSO ADMIRE TO BE HEALTHY.\n"
     ]
    }
   ],
   "source": [
    "# replace(\"old word\",\"new word\")\n",
    "A = A.replace(\"WANT\",\"ADMIRE\")\n",
    "print(A)"
   ]
  },
  {
   "cell_type": "code",
   "execution_count": 39,
   "metadata": {},
   "outputs": [
    {
     "name": "stdout",
     "output_type": "stream",
     "text": [
      "2\n"
     ]
    },
    {
     "data": {
      "text/plain": [
       "0"
      ]
     },
     "execution_count": 39,
     "metadata": {},
     "output_type": "execute_result"
    }
   ],
   "source": [
    "print(A.count(\"ADMIRE\"))\n",
    "A.count(\"WANT\")"
   ]
  },
  {
   "cell_type": "code",
   "execution_count": 44,
   "metadata": {},
   "outputs": [
    {
     "name": "stdout",
     "output_type": "stream",
     "text": [
      "['I', 'ADMIRE', 'TO', 'HAVE', 'A', 'FIT', 'BODY', 'AND', 'I', 'ALSO', 'ADMIRE', 'TO', 'BE', 'HEALTHY.']\n",
      "I_ADMIRE_TO_HAVE_A_FIT_BODY_AND_I_ALSO_ADMIRE_TO_BE_HEALTHY.\n",
      "I_ADMIRE_TO_HAVE_A_FIT_BODY_AND_I_ALSO_ADMIRE_TO_BE_HEALTHY.\n"
     ]
    }
   ],
   "source": [
    "# join() function is a function which adds words of string after they are split.\n",
    "l = A.split()\n",
    "print(l)\n",
    "print(\"_\".join(l))\n",
    "# WE CAN ALSO DO THAT \n",
    "B=\"_\"\n",
    "B=B.join(l)\n",
    "print(B)"
   ]
  },
  {
   "cell_type": "code",
   "execution_count": 47,
   "metadata": {},
   "outputs": [
    {
     "name": "stdout",
     "output_type": "stream",
     "text": [
      "This is last in strings\n",
      "\n",
      "This Is Last In Strings\n"
     ]
    }
   ],
   "source": [
    "# capitalize() function capiutalizes only the first character of the string but title() function capitalizes 1st character\n",
    "# of every word\n",
    "c=\"this is last in strings\"\n",
    "print(c.capitalize())\n",
    "print()\n",
    "print(c.title())\n"
   ]
  },
  {
   "cell_type": "code",
   "execution_count": null,
   "metadata": {},
   "outputs": [],
   "source": []
  }
 ],
 "metadata": {
  "kernelspec": {
   "display_name": "Python 3",
   "language": "python",
   "name": "python3"
  },
  "language_info": {
   "codemirror_mode": {
    "name": "ipython",
    "version": 3
   },
   "file_extension": ".py",
   "mimetype": "text/x-python",
   "name": "python",
   "nbconvert_exporter": "python",
   "pygments_lexer": "ipython3",
   "version": "3.8.2"
  }
 },
 "nbformat": 4,
 "nbformat_minor": 4
}
