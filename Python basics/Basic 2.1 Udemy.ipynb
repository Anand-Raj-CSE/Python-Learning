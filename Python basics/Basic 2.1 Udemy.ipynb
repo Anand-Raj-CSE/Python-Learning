{
 "cells": [
  {
   "cell_type": "markdown",
   "metadata": {},
   "source": [
    "# OBJECT ORIENTED PROGRAMMING - TILL 1972 , THERE WERE ONLY PROCEDURAL LANGUAGES . IN 1972 , SAME YEAR IN WHICH C WAS DEVELOPED , FIRST OOP CAME NAMED AS Smalltalk"
   ]
  },
  {
   "cell_type": "code",
   "execution_count": 8,
   "metadata": {},
   "outputs": [
    {
     "name": "stdout",
     "output_type": "stream",
     "text": [
      "ANAND\n",
      "<__main__.PlayerCharacter object at 0x000002B048FF81C0>\n",
      "run\n",
      "ANAND\n"
     ]
    }
   ],
   "source": [
    "class PlayerCharacter :\n",
    "    member=True    # THIS IS CLASS OBJECT ATTRIBUTE\n",
    "    def __init__(self,name):  # THIS IS A CONSTRUCTOR METHOD\n",
    "        self.name = name # attribute \n",
    "        print(name)\n",
    "        \n",
    "    def run(self):\n",
    "        print('run')\n",
    "    def shout(self):\n",
    "        print(f'MY NAME IS {self.name}')\n",
    "        \n",
    "        \n",
    "player1 = PlayerCharacter('ANAND')\n",
    "print(player1)\n",
    "player1.run()\n",
    "print(player1.name) # WE CAN ACCESS THE DATA OR VARIABLES OR ATTRIBUTE BY JUST DOING object_name.data_name"
   ]
  },
  {
   "cell_type": "code",
   "execution_count": 9,
   "metadata": {},
   "outputs": [
    {
     "name": "stdout",
     "output_type": "stream",
     "text": [
      "run\n",
      "None\n"
     ]
    }
   ],
   "source": [
    " print(player1.run()) # None is printed as thye method run() does not return any value , so None"
   ]
  },
  {
   "cell_type": "code",
   "execution_count": 10,
   "metadata": {},
   "outputs": [
    {
     "name": "stdout",
     "output_type": "stream",
     "text": [
      "True\n"
     ]
    }
   ],
   "source": [
    "print(player1.member)"
   ]
  },
  {
   "cell_type": "code",
   "execution_count": 13,
   "metadata": {},
   "outputs": [
    {
     "name": "stdout",
     "output_type": "stream",
     "text": [
      "cindy\n",
      "MY NAME IS cindy\n"
     ]
    }
   ],
   "source": [
    "player2=PlayerCharacter(\"cindy\")\n",
    "player2.shout()"
   ]
  },
  {
   "cell_type": "code",
   "execution_count": 14,
   "metadata": {},
   "outputs": [],
   "source": [
    "class A :\n",
    "    def __init__(self , name = \"ANONYMUS\" , age =0):\n",
    "        if (age >= 18):\n",
    "            self.name = name\n",
    "            self.age = age\n",
    "            \n",
    "    def shout(self):\n",
    "        print(f\"MY NAME IS {self.name} AND MY AGE IS {self.age}\")\n",
    "        \n"
   ]
  },
  {
   "cell_type": "code",
   "execution_count": 17,
   "metadata": {},
   "outputs": [
    {
     "ename": "AttributeError",
     "evalue": "'A' object has no attribute 'name'",
     "output_type": "error",
     "traceback": [
      "\u001b[1;31m---------------------------------------------------------------------------\u001b[0m",
      "\u001b[1;31mAttributeError\u001b[0m                            Traceback (most recent call last)",
      "\u001b[1;32m<ipython-input-17-a534d57d8650>\u001b[0m in \u001b[0;36m<module>\u001b[1;34m\u001b[0m\n\u001b[0;32m      1\u001b[0m \u001b[0mL1\u001b[0m\u001b[1;33m=\u001b[0m\u001b[0mA\u001b[0m\u001b[1;33m(\u001b[0m\u001b[1;34m'TOM'\u001b[0m\u001b[1;33m,\u001b[0m\u001b[1;36m10\u001b[0m\u001b[1;33m)\u001b[0m\u001b[1;33m\u001b[0m\u001b[1;33m\u001b[0m\u001b[0m\n\u001b[1;32m----> 2\u001b[1;33m \u001b[0mL1\u001b[0m\u001b[1;33m.\u001b[0m\u001b[0mshout\u001b[0m\u001b[1;33m(\u001b[0m\u001b[1;33m)\u001b[0m\u001b[1;33m\u001b[0m\u001b[1;33m\u001b[0m\u001b[0m\n\u001b[0m",
      "\u001b[1;32m<ipython-input-14-b4b3e1768667>\u001b[0m in \u001b[0;36mshout\u001b[1;34m(self)\u001b[0m\n\u001b[0;32m      6\u001b[0m \u001b[1;33m\u001b[0m\u001b[0m\n\u001b[0;32m      7\u001b[0m     \u001b[1;32mdef\u001b[0m \u001b[0mshout\u001b[0m\u001b[1;33m(\u001b[0m\u001b[0mself\u001b[0m\u001b[1;33m)\u001b[0m\u001b[1;33m:\u001b[0m\u001b[1;33m\u001b[0m\u001b[1;33m\u001b[0m\u001b[0m\n\u001b[1;32m----> 8\u001b[1;33m         \u001b[0mprint\u001b[0m\u001b[1;33m(\u001b[0m\u001b[1;34mf\"MY NAME IS {self.name} AND MY AGE IS {self.age}\"\u001b[0m\u001b[1;33m)\u001b[0m\u001b[1;33m\u001b[0m\u001b[1;33m\u001b[0m\u001b[0m\n\u001b[0m\u001b[0;32m      9\u001b[0m \u001b[1;33m\u001b[0m\u001b[0m\n",
      "\u001b[1;31mAttributeError\u001b[0m: 'A' object has no attribute 'name'"
     ]
    }
   ],
   "source": [
    "L1=A('TOM',10)\n",
    "L1.shout()"
   ]
  },
  {
   "cell_type": "code",
   "execution_count": 19,
   "metadata": {},
   "outputs": [
    {
     "name": "stdout",
     "output_type": "stream",
     "text": [
      "MY NAME IS mary AND MY AGE IS 20\n"
     ]
    }
   ],
   "source": [
    "l2=A(\"mary\",20)\n",
    "l2.shout()"
   ]
  },
  {
   "cell_type": "markdown",
   "metadata": {},
   "source": [
    "# classmethod and static mathods"
   ]
  },
  {
   "cell_type": "code",
   "execution_count": 20,
   "metadata": {},
   "outputs": [],
   "source": [
    "class A :\n",
    "    def __init__(self , name = \"ANONYMUS\" , age =0):\n",
    "        if (age >= 18):\n",
    "            self.name = name\n",
    "            self.age = age\n",
    "            \n",
    "    def shout(self):\n",
    "        print(f\"MY NAME IS {self.name} AND MY AGE IS {self.age}\")\n",
    "    @classmethod\n",
    "    def add(cls,num,num2): # THE 1st parameter is cls which stands for class\n",
    "        return num+num2"
   ]
  },
  {
   "cell_type": "code",
   "execution_count": 21,
   "metadata": {},
   "outputs": [
    {
     "name": "stdout",
     "output_type": "stream",
     "text": [
      "7\n"
     ]
    }
   ],
   "source": [
    "l=A()\n",
    "print(l.add(2,5))"
   ]
  },
  {
   "cell_type": "code",
   "execution_count": 22,
   "metadata": {},
   "outputs": [],
   "source": [
    "class A :\n",
    "    def __init__(self , name = \"ANONYMUS\" , age =0):\n",
    "        if (age >= 18):\n",
    "            self.name = name\n",
    "            self.age = age\n",
    "            \n",
    "    def shout(self):\n",
    "        print(f\"MY NAME IS {self.name} AND MY AGE IS {self.age}\")\n",
    "    @classmethod\n",
    "    def add(cls,num,num2): # THE 1st parameter is cls which stands for class\n",
    "        return cls('TEDDY' , num+num2) # INSTANTIATED A TEDDY WITH AGE NUM+NUM1"
   ]
  },
  {
   "cell_type": "code",
   "execution_count": 25,
   "metadata": {},
   "outputs": [
    {
     "data": {
      "text/plain": [
       "<__main__.A at 0x2b04bc54eb0>"
      ]
     },
     "execution_count": 25,
     "metadata": {},
     "output_type": "execute_result"
    }
   ],
   "source": [
    "l=A()\n",
    "l.add(5,2)"
   ]
  },
  {
   "cell_type": "code",
   "execution_count": 27,
   "metadata": {},
   "outputs": [
    {
     "name": "stdout",
     "output_type": "stream",
     "text": [
      "21\n"
     ]
    }
   ],
   "source": [
    "p=A.add(20,1)\n",
    "print(p.age)"
   ]
  },
  {
   "cell_type": "code",
   "execution_count": 30,
   "metadata": {},
   "outputs": [],
   "source": [
    "class A :\n",
    "    def __init__(self , name = \"ANONYMUS\" , age =0):\n",
    "        if (age >= 18):\n",
    "            self.name = name\n",
    "            self.age = age\n",
    "            \n",
    "    def shout(self):\n",
    "        print(f\"MY NAME IS {self.name} AND MY AGE IS {self.age}\")\n",
    "    @classmethod\n",
    "    def add(cls,num,num2): # THE 1st parameter is cls which stands for class\n",
    "        return num+num2\n",
    "    \n",
    "    @staticmethod\n",
    "    def add(num,num1):\n",
    "        return num+num1"
   ]
  },
  {
   "cell_type": "code",
   "execution_count": 32,
   "metadata": {},
   "outputs": [
    {
     "data": {
      "text/plain": [
       "<__main__.A at 0x2b04bc41d90>"
      ]
     },
     "execution_count": 32,
     "metadata": {},
     "output_type": "execute_result"
    }
   ],
   "source": [
    "class A :\n",
    "    def __init__(self , name = \"ANONYMUS\" , age =0):\n",
    "        if (age >= 18):\n",
    "            self.name = name\n",
    "            self.age = age\n",
    "            \n",
    "    def shout(self):\n",
    "        print(f\"MY NAME IS {self.name} AND MY AGE IS {self.age}\")\n",
    "    @classmethod\n",
    "    def add(cls,num,num2): # THE 1st parameter is cls which stands for class\n",
    "        return num+num2\n",
    "    def run(self):\n",
    "        return self # RETURNS THE ADDRESS OF THE MEMORY WHERE THE OBJECT IS CREATED\n",
    "    \n",
    "l =A()\n",
    "l.run()"
   ]
  },
  {
   "cell_type": "code",
   "execution_count": 36,
   "metadata": {},
   "outputs": [
    {
     "name": "stdout",
     "output_type": "stream",
     "text": [
      "anand\n",
      "20\n"
     ]
    }
   ],
   "source": [
    "player2 = {'name' : \"anand\" , 'age':20}\n",
    "print(player2['name'])\n",
    "print(player2['age'])"
   ]
  },
  {
   "cell_type": "markdown",
   "metadata": {},
   "source": [
    "# public and private variables in a class - There is not such a thing in python , just _ in python , it should not be updated."
   ]
  },
  {
   "cell_type": "code",
   "execution_count": 42,
   "metadata": {},
   "outputs": [
    {
     "name": "stdout",
     "output_type": "stream",
     "text": [
      "MY NAME IS anand AND MY AGE IS 62\n",
      "82\n"
     ]
    }
   ],
   "source": [
    "class A :\n",
    "    def __init__(self , name = \"ANONYMUS\" , age =0):\n",
    "            self._name = name\n",
    "            self._age = age\n",
    "            \n",
    "    def shout(self):\n",
    "        print(f\"MY NAME IS {self._name} AND MY AGE IS {self._age}\")\n",
    "    @classmethod\n",
    "    def add(cls,num,num2): # THE 1st parameter is cls which stands for class\n",
    "        return num+num2\n",
    "l=A(\"anand\",62)\n",
    "l.shout()\n",
    "\n",
    "l._age+=20\n",
    "print(l._age)"
   ]
  },
  {
   "cell_type": "markdown",
   "metadata": {},
   "source": [
    "# INHERITANCE "
   ]
  },
  {
   "cell_type": "code",
   "execution_count": 1,
   "metadata": {},
   "outputs": [
    {
     "name": "stdout",
     "output_type": "stream",
     "text": [
      "ATTACKING WITH POWER OF 200\n",
      "Logged in\n"
     ]
    }
   ],
   "source": [
    "class User() :\n",
    "    def sign_in(self):\n",
    "        print(\"Logged in\")\n",
    "\n",
    "class Wizard (User):\n",
    "    def __init__(self ,name ,power):\n",
    "        self.name = name\n",
    "        self.power = power \n",
    "    \n",
    "    def attack(self):\n",
    "        print(f'ATTACKING WITH POWER OF {self.power}')\n",
    "\n",
    "class Archer(User) :\n",
    "    def __init__(self , name ,arrow):\n",
    "        self.name = name\n",
    "        self.arrow = arrow \n",
    "    \n",
    "    def attack(self):\n",
    "        print(f'ATTACKING WITH ARROW : {self.arrows}')\n",
    "\n",
    "wiz1 = Wizard(\"lvl 5 \",200)\n",
    "wiz1.attack()\n",
    "wiz1.sign_in()"
   ]
  },
  {
   "cell_type": "code",
   "execution_count": 3,
   "metadata": {},
   "outputs": [
    {
     "name": "stdout",
     "output_type": "stream",
     "text": [
      "True\n"
     ]
    }
   ],
   "source": [
    "print(isinstance(wiz1,object))"
   ]
  },
  {
   "cell_type": "markdown",
   "metadata": {},
   "source": [
    "# WHENEVER WE CREATE A CLASS IT IS GOING TO ACCEPT OBJECTS AS A PARAMETER AS class class_name(object)"
   ]
  },
  {
   "cell_type": "markdown",
   "metadata": {},
   "source": [
    "# POLYMORPHISM"
   ]
  },
  {
   "cell_type": "code",
   "execution_count": 4,
   "metadata": {},
   "outputs": [
    {
     "name": "stdout",
     "output_type": "stream",
     "text": [
      "DO NOTHING\n",
      "Attacking with wizard of lvl 5 with 220 power\n"
     ]
    }
   ],
   "source": [
    "class user(object):\n",
    "    def sign_in(self):\n",
    "        print(\"Logged IN\")\n",
    "    def attack(self):\n",
    "        print(\"DO NOTHING\")\n",
    "        \n",
    "class wizard(user):\n",
    "    def __init__(self,name,power):\n",
    "        self.name = name\n",
    "        self.power = power\n",
    "\n",
    "    def attack(self):\n",
    "        user.attack(self)\n",
    "        print(f\"Attacking with wizard of {self.name} with {self.power} power\")\n",
    "        \n",
    "wiz = wizard(\"lvl 5\",220)\n",
    "wiz.attack()"
   ]
  },
  {
   "cell_type": "code",
   "execution_count": 7,
   "metadata": {},
   "outputs": [
    {
     "ename": "TypeError",
     "evalue": "descriptor '__init__' requires a 'super' object but received a 'str'",
     "output_type": "error",
     "traceback": [
      "\u001b[1;31m---------------------------------------------------------------------------\u001b[0m",
      "\u001b[1;31mTypeError\u001b[0m                                 Traceback (most recent call last)",
      "\u001b[1;32m<ipython-input-7-a579983461e2>\u001b[0m in \u001b[0;36m<module>\u001b[1;34m\u001b[0m\n\u001b[0;32m     21\u001b[0m         \u001b[0mprint\u001b[0m\u001b[1;33m(\u001b[0m\u001b[1;34mf\"Attacking with wizard of {self.name} with {self.power} power\"\u001b[0m\u001b[1;33m)\u001b[0m\u001b[1;33m\u001b[0m\u001b[1;33m\u001b[0m\u001b[0m\n\u001b[0;32m     22\u001b[0m \u001b[1;33m\u001b[0m\u001b[0m\n\u001b[1;32m---> 23\u001b[1;33m \u001b[0mwiz\u001b[0m \u001b[1;33m=\u001b[0m \u001b[0mwizard\u001b[0m\u001b[1;33m(\u001b[0m\u001b[1;34m\"lvl 5\"\u001b[0m\u001b[1;33m,\u001b[0m\u001b[1;36m220\u001b[0m\u001b[1;33m,\u001b[0m\u001b[1;34m'anandraj@google.com'\u001b[0m\u001b[1;33m)\u001b[0m\u001b[1;33m\u001b[0m\u001b[1;33m\u001b[0m\u001b[0m\n\u001b[0m\u001b[0;32m     24\u001b[0m \u001b[0mwiz\u001b[0m\u001b[1;33m.\u001b[0m\u001b[0mattack\u001b[0m\u001b[1;33m(\u001b[0m\u001b[1;33m)\u001b[0m\u001b[1;33m\u001b[0m\u001b[1;33m\u001b[0m\u001b[0m\n\u001b[0;32m     25\u001b[0m \u001b[0mprint\u001b[0m\u001b[1;33m(\u001b[0m\u001b[0mwiz\u001b[0m\u001b[1;33m.\u001b[0m\u001b[0memail\u001b[0m\u001b[1;33m)\u001b[0m\u001b[1;33m\u001b[0m\u001b[1;33m\u001b[0m\u001b[0m\n",
      "\u001b[1;32m<ipython-input-7-a579983461e2>\u001b[0m in \u001b[0;36m__init__\u001b[1;34m(self, name, power, email)\u001b[0m\n\u001b[0;32m     13\u001b[0m         \u001b[1;31m# user.__init__(self,email)\u001b[0m\u001b[1;33m\u001b[0m\u001b[1;33m\u001b[0m\u001b[1;33m\u001b[0m\u001b[0m\n\u001b[0;32m     14\u001b[0m         \u001b[1;31m# Another way is super , it defines the super class\u001b[0m\u001b[1;33m\u001b[0m\u001b[1;33m\u001b[0m\u001b[1;33m\u001b[0m\u001b[0m\n\u001b[1;32m---> 15\u001b[1;33m         \u001b[0msuper\u001b[0m\u001b[1;33m.\u001b[0m\u001b[0m__init__\u001b[0m\u001b[1;33m(\u001b[0m\u001b[0memail\u001b[0m\u001b[1;33m)\u001b[0m\u001b[1;33m\u001b[0m\u001b[1;33m\u001b[0m\u001b[0m\n\u001b[0m\u001b[0;32m     16\u001b[0m         \u001b[0mself\u001b[0m\u001b[1;33m.\u001b[0m\u001b[0mname\u001b[0m \u001b[1;33m=\u001b[0m \u001b[0mname\u001b[0m\u001b[1;33m\u001b[0m\u001b[1;33m\u001b[0m\u001b[0m\n\u001b[0;32m     17\u001b[0m         \u001b[0mself\u001b[0m\u001b[1;33m.\u001b[0m\u001b[0mpower\u001b[0m \u001b[1;33m=\u001b[0m \u001b[0mpower\u001b[0m\u001b[1;33m\u001b[0m\u001b[1;33m\u001b[0m\u001b[0m\n",
      "\u001b[1;31mTypeError\u001b[0m: descriptor '__init__' requires a 'super' object but received a 'str'"
     ]
    }
   ],
   "source": [
    "class user(object):\n",
    "    def __init__(self,email):\n",
    "        self.email = email\n",
    "        \n",
    "    def sign_in(self):\n",
    "        print(\"Logged IN\")\n",
    "    def attack(self):\n",
    "        print(\"DO NOTHING\")\n",
    "        \n",
    "class wizard(user):\n",
    "    def __init__(self,name,power,email):\n",
    "        # INITIALIZING user EMAIL FROM wizard CLASS\n",
    "         user.__init__(self,email)\n",
    "        # Another way is super , it defines the super class\n",
    "        super.__init__(email)\n",
    "        self.name = name\n",
    "        self.power = power\n",
    "\n",
    "    def attack(self):\n",
    "        user.attack(self)\n",
    "        print(f\"Attacking with wizard of {self.name} with {self.power} power\")\n",
    "        \n",
    "wiz = wizard(\"lvl 5\",220,'anandraj@google.com')\n",
    "wiz.attack()\n",
    "print(wiz.email)"
   ]
  },
  {
   "cell_type": "markdown",
   "metadata": {},
   "source": [
    "# OBJECT INTROSPECTION - DETERMINING THE TYPE OF OBJECT AT RUNTIME"
   ]
  },
  {
   "cell_type": "code",
   "execution_count": 8,
   "metadata": {},
   "outputs": [
    {
     "name": "stdout",
     "output_type": "stream",
     "text": [
      "DO NOTHING\n",
      "Attacking with wizard of lvl 5 with 220 power\n",
      "['__class__', '__delattr__', '__dict__', '__dir__', '__doc__', '__eq__', '__format__', '__ge__', '__getattribute__', '__gt__', '__hash__', '__init__', '__init_subclass__', '__le__', '__lt__', '__module__', '__ne__', '__new__', '__reduce__', '__reduce_ex__', '__repr__', '__setattr__', '__sizeof__', '__str__', '__subclasshook__', '__weakref__', 'attack', 'name', 'power', 'sign_in']\n"
     ]
    }
   ],
   "source": [
    "class user(object):\n",
    "    def sign_in(self):\n",
    "        print(\"Logged IN\")\n",
    "    def attack(self):\n",
    "        print(\"DO NOTHING\")\n",
    "        \n",
    "class wizard(user):\n",
    "    def __init__(self,name,power):\n",
    "        self.name = name\n",
    "        self.power = power\n",
    "\n",
    "    def attack(self):\n",
    "        user.attack(self)\n",
    "        print(f\"Attacking with wizard of {self.name} with {self.power} power\")\n",
    "        \n",
    "wiz = wizard(\"lvl 5\",220)\n",
    "wiz.attack()\n",
    "print(dir(wiz)) # what wiz object has access to , .in the editors uses the introspection whenever a . is encountered "
   ]
  },
  {
   "cell_type": "markdown",
   "metadata": {},
   "source": [
    "# DUNDER METHODS - PYTHON SPECIFIC METHODS ON OBJECTS CREATED THROUGH OUR CLASS"
   ]
  },
  {
   "cell_type": "code",
   "execution_count": 13,
   "metadata": {},
   "outputs": [
    {
     "name": "stdout",
     "output_type": "stream",
     "text": [
      "red\n",
      "red\n",
      "YES\n",
      "YOYO\n"
     ]
    }
   ],
   "source": [
    "class Toy():\n",
    "    def __init__(self , color , age):\n",
    "        self.color = color\n",
    "        self.age = age\n",
    "        self.my_dict = {\n",
    "            'name' : \"YOYO\" ,\n",
    "            'has_pets' : False\n",
    "        }\n",
    "    def __str__(self): # WE CAN CHANGE THE MEANING OF THE dunders \n",
    "        return f'{self.color}'\n",
    "    def __len__(self): # HERE WE CHANGED THE FUNCTIOON ALSO CHANGES THE FUNCTION OF len , IT WILL ONLY RETURN 5\n",
    "        return 5\n",
    "    \n",
    "    def __call__(self): # Their calling i.e. with () , will result in returning the values __call__() returns\n",
    "        return('YES')\n",
    "    \n",
    "    def __getitem__(self,i): # WE CAN NOW ACESS ITEMS JUST BY [] operators , its similar to operator \n",
    "        return self.my_dict[i]\n",
    "        \n",
    "        \n",
    "act = Toy(\"red\" , 31)\n",
    "print(act.__str__()) # __str__() is a special method\n",
    "print(str(act))\n",
    "print(act())\n",
    "print(act['name'])"
   ]
  },
  {
   "cell_type": "code",
   "execution_count": 3,
   "metadata": {},
   "outputs": [
    {
     "name": "stdout",
     "output_type": "stream",
     "text": [
      "1000\n"
     ]
    },
    {
     "ename": "AttributeError",
     "evalue": "'Sup' object has no attribute 'append'",
     "output_type": "error",
     "traceback": [
      "\u001b[1;31m---------------------------------------------------------------------------\u001b[0m",
      "\u001b[1;31mAttributeError\u001b[0m                            Traceback (most recent call last)",
      "\u001b[1;32m<ipython-input-3-31a71c76dd70>\u001b[0m in \u001b[0;36m<module>\u001b[1;34m\u001b[0m\n\u001b[0;32m      6\u001b[0m \u001b[0ms1\u001b[0m \u001b[1;33m=\u001b[0m \u001b[0mSup\u001b[0m\u001b[1;33m(\u001b[0m\u001b[1;33m)\u001b[0m\u001b[1;33m;\u001b[0m\u001b[1;33m\u001b[0m\u001b[1;33m\u001b[0m\u001b[0m\n\u001b[0;32m      7\u001b[0m \u001b[0mprint\u001b[0m\u001b[1;33m(\u001b[0m\u001b[0mlen\u001b[0m\u001b[1;33m(\u001b[0m\u001b[0ms1\u001b[0m\u001b[1;33m)\u001b[0m\u001b[1;33m)\u001b[0m\u001b[1;33m\u001b[0m\u001b[1;33m\u001b[0m\u001b[0m\n\u001b[1;32m----> 8\u001b[1;33m \u001b[0ms1\u001b[0m\u001b[1;33m.\u001b[0m\u001b[0mappend\u001b[0m\u001b[1;33m(\u001b[0m\u001b[1;36m5\u001b[0m\u001b[1;33m)\u001b[0m\u001b[1;33m\u001b[0m\u001b[1;33m\u001b[0m\u001b[0m\n\u001b[0m\u001b[0;32m      9\u001b[0m \u001b[1;31m#s1[5]\u001b[0m\u001b[1;33m\u001b[0m\u001b[1;33m\u001b[0m\u001b[1;33m\u001b[0m\u001b[0m\n",
      "\u001b[1;31mAttributeError\u001b[0m: 'Sup' object has no attribute 'append'"
     ]
    }
   ],
   "source": [
    "class Sup():\n",
    "    def __len__(self):\n",
    "        return 1000\n",
    "    \n",
    "    \n",
    "s1 = Sup();\n",
    "print(len(s1))\n",
    "s1.append(5)\n",
    "#s1[5]"
   ]
  },
  {
   "cell_type": "code",
   "execution_count": 8,
   "metadata": {},
   "outputs": [
    {
     "name": "stdout",
     "output_type": "stream",
     "text": [
      "1000\n",
      "5\n"
     ]
    }
   ],
   "source": [
    "# TO get the functionalities of list class , we will just make list the parent class of our class\n",
    "class Sup(list):\n",
    "    def __len__(self):\n",
    "        return 1000\n",
    "    \n",
    "    \n",
    "s1 = Sup();\n",
    "print(len(s1))\n",
    "s1.append(5)\n",
    "print(s1[0])"
   ]
  },
  {
   "cell_type": "markdown",
   "metadata": {},
   "source": [
    "# MULTIPLE INHERITANCE \n"
   ]
  },
  {
   "cell_type": "code",
   "execution_count": 13,
   "metadata": {},
   "outputs": [
    {
     "name": "stdout",
     "output_type": "stream",
     "text": [
      "run very fast\n",
      "None\n",
      "ATTACKING WITH POWER OF 50\n",
      "None\n",
      "Logged in\n",
      "None\n"
     ]
    }
   ],
   "source": [
    "class User() :\n",
    "    def sign_in(self):\n",
    "        print(\"Logged in\")\n",
    "\n",
    "class Wizard (User):\n",
    "    def __init__(self ,name ,power):\n",
    "        self.name = name\n",
    "        self.power = power \n",
    "    \n",
    "    def attack(self):\n",
    "        print(f'ATTACKING WITH POWER OF {self.power}')\n",
    "\n",
    "class Archer(User) :\n",
    "    def __init__(self , name ,arrow):\n",
    "        self.name = name\n",
    "        self.arrow = arrow \n",
    "    \n",
    "    def attack(self):\n",
    "        print(f'ATTACKING WITH ARROW : {self.arrows}')\n",
    "        \n",
    "    def run(self):\n",
    "        print(\"run very fast\")\n",
    "        \n",
    "class HybridBorg(Wizard, Archer):\n",
    "    def __init__(self,name,power,arrows):\n",
    "        Archer.__init__(self,name,arrows)\n",
    "        Wizard.__init__(self,name,power)\n",
    "\n",
    "hb1 = HybridBorg('BOrgie',50,100) # IF NOT GIVEN THEN WILL THROW AN ERROR\n",
    "print(hb1.run())\n",
    "print(hb1.attack())\n",
    "print(hb1.sign_in())"
   ]
  },
  {
   "cell_type": "markdown",
   "metadata": {},
   "source": [
    "# METHOD RESOLUTION ORDER (MRO) , uses Depth First Search (DFS)"
   ]
  },
  {
   "cell_type": "code",
   "execution_count": 18,
   "metadata": {},
   "outputs": [
    {
     "name": "stdout",
     "output_type": "stream",
     "text": [
      "1\n",
      "[<class '__main__.D'>, <class '__main__.B'>, <class '__main__.C'>, <class '__main__.A'>, <class 'object'>]\n",
      "(<class '__main__.D'>, <class '__main__.B'>, <class '__main__.C'>, <class '__main__.A'>, <class 'object'>)\n"
     ]
    }
   ],
   "source": [
    "class A:\n",
    "    num = 10\n",
    "    \n",
    "class B(A):\n",
    "    pass\n",
    "\n",
    "class C(A):\n",
    "    num =1\n",
    "    \n",
    "class D(B,C):\n",
    "    pass\n",
    "\n",
    "print(D.num) # WE get 1 as output as it does not go like D->B->A but goes like D->B->C->A\n",
    "print(D.mro()) # mro() will tell the path from where D will go.\n",
    "print(D.__mro__) # same using dunder , It uses Depth First Search"
   ]
  },
  {
   "cell_type": "markdown",
   "metadata": {},
   "source": [
    "# FUNCTIONAL PROGRAMMING "
   ]
  },
  {
   "cell_type": "markdown",
   "metadata": {},
   "source": [
    "#PURE FUNCTION - \n",
    "1. Given for a given input , it always produces a single output\n",
    "2. It should not interact with the outside world , like in given example , if return print(new_list) , it interacts with the print function , as of example we should not touch simething that is like global variables"
   ]
  },
  {
   "cell_type": "code",
   "execution_count": 1,
   "metadata": {},
   "outputs": [
    {
     "name": "stdout",
     "output_type": "stream",
     "text": [
      "[2, 4, 6, 8, 10, 12]\n"
     ]
    }
   ],
   "source": [
    "def multiby2(li):\n",
    "    new_list = []\n",
    "    for item in li :\n",
    "        new_list.append(item*2)\n",
    "    return new_list\n",
    "\n",
    "print(multiby2([1,2,3,4,5,6]))"
   ]
  },
  {
   "cell_type": "markdown",
   "metadata": {},
   "source": [
    "# map() function - map will automatically call the function , we need not create a new list.The function will return a map object , it will later be converted into a list."
   ]
  },
  {
   "cell_type": "code",
   "execution_count": 6,
   "metadata": {},
   "outputs": [
    {
     "name": "stdout",
     "output_type": "stream",
     "text": [
      "<map object at 0x000001E4D3D37DC0>\n",
      "[2, 4, 6]\n",
      "[2, 4, 6]\n",
      "[1, 2, 3]\n"
     ]
    }
   ],
   "source": [
    "my_list = [1,2,3]\n",
    "def multi2(li):\n",
    "    return li*2\n",
    "\n",
    "print(map(multi2,my_list))\n",
    "print(list(map(multi2,my_list)))\n",
    "new = list(map(multi2,my_list))\n",
    "print(new)\n",
    "print(my_list)\n"
   ]
  },
  {
   "cell_type": "markdown",
   "metadata": {},
   "source": [
    "# filter() - with map we got same number of items we gave to the function , with filter we can get least number of results"
   ]
  },
  {
   "cell_type": "code",
   "execution_count": 7,
   "metadata": {},
   "outputs": [
    {
     "name": "stdout",
     "output_type": "stream",
     "text": [
      "[1, 3]\n"
     ]
    }
   ],
   "source": [
    "def checkOdd(item):\n",
    "    return item % 2 != 0\n",
    "print(list(filter(checkOdd,my_list)))"
   ]
  },
  {
   "cell_type": "markdown",
   "metadata": {},
   "source": [
    "# zip() - we need two lists or iterables for zipping"
   ]
  },
  {
   "cell_type": "code",
   "execution_count": 10,
   "metadata": {},
   "outputs": [
    {
     "name": "stdout",
     "output_type": "stream",
     "text": [
      "[(1, 10), (2, 20), (3, 30)]\n",
      "[(1, 10, 100), (2, 20, 200), (3, 30, 300)]\n"
     ]
    }
   ],
   "source": [
    "my_list = [1,2,3]\n",
    "your_list = [10,20,30]\n",
    "lo =(100,200,300,400)\n",
    "\n",
    "print(list(zip(my_list,your_list))) # we can zip list and touple together too\n",
    "print(list(zip(my_list,your_list,lo)))"
   ]
  },
  {
   "cell_type": "markdown",
   "metadata": {},
   "source": [
    "# reduce() - It does not come with python as a function but we need to import it from functool"
   ]
  },
  {
   "cell_type": "code",
   "execution_count": 15,
   "metadata": {},
   "outputs": [
    {
     "name": "stdout",
     "output_type": "stream",
     "text": [
      "0 1\n",
      "1 2\n",
      "3 3\n",
      "6\n"
     ]
    }
   ],
   "source": [
    "from functools import reduce\n",
    "def accumulator(accumulee , item):\n",
    "    print(accumulee,item)\n",
    "    return accumulee+item\n",
    "    \n",
    "print(reduce(accumulator,my_list,10)) # 10 is the initial accumulee , accumulee stores the result that is returned \n",
    "                                      # by the accumulator in the previous call"
   ]
  },
  {
   "cell_type": "code",
   "execution_count": null,
   "metadata": {},
   "outputs": [],
   "source": []
  },
  {
   "cell_type": "code",
   "execution_count": null,
   "metadata": {},
   "outputs": [],
   "source": []
  }
 ],
 "metadata": {
  "kernelspec": {
   "display_name": "Python 3",
   "language": "python",
   "name": "python3"
  },
  "language_info": {
   "codemirror_mode": {
    "name": "ipython",
    "version": 3
   },
   "file_extension": ".py",
   "mimetype": "text/x-python",
   "name": "python",
   "nbconvert_exporter": "python",
   "pygments_lexer": "ipython3",
   "version": "3.8.2"
  }
 },
 "nbformat": 4,
 "nbformat_minor": 4
}
