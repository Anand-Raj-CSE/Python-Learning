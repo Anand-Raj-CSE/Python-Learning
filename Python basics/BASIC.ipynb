{
 "cells": [
  {
   "cell_type": "code",
   "execution_count": 2,
   "metadata": {},
   "outputs": [
    {
     "name": "stdout",
     "output_type": "stream",
     "text": [
      "THIS IS PYTHON BASICS\n"
     ]
    }
   ],
   "source": [
    "#TESTING PYTHON HERE\n",
    "\n",
    "print(\"THIS IS PYTHON BASICS\")"
   ]
  },
  {
   "cell_type": "code",
   "execution_count": 3,
   "metadata": {},
   "outputs": [
    {
     "name": "stdout",
     "output_type": "stream",
     "text": [
      "Capital of India is New Delhi\n",
      "Capital of India is New Delhi.\n"
     ]
    }
   ],
   "source": [
    "### Ways of formating , this one is the first Way of formatting\n",
    "my_string=(\"Capital of %s is %s\"%(\"India\",\"New Delhi\"))\n",
    "print(my_string)\n",
    "\n",
    "##Second method of formatting is by using .format as\n",
    "my_string2=\"Capital of {} is {}.\".format(\"India\",\"New Delhi\")\n",
    "print(my_string2)"
   ]
  },
  {
   "cell_type": "code",
   "execution_count": 5,
   "metadata": {},
   "outputs": [
    {
     "name": "stdout",
     "output_type": "stream",
     "text": [
      "HEllo World\n",
      "a b abc\n",
      "a\n",
      "b\n",
      "abc\n"
     ]
    }
   ],
   "source": [
    "#use of end and sep keyword\n",
    "print(\"HEllo\",end=\" \")\n",
    "print(\"World\")\n",
    "print(\"a\",\"b\",\"abc\")\n",
    "print(\"a\",\"b\",\"abc\",sep='\\n')"
   ]
  },
  {
   "cell_type": "code",
   "execution_count": 4,
   "metadata": {},
   "outputs": [
    {
     "name": "stdout",
     "output_type": "stream",
     "text": [
      "Anand\n",
      "Anand\n",
      "ENTER THE AGE\n",
      "19\n",
      "19\n",
      "Type again the age\n",
      "19\n",
      "Your age is  19\n"
     ]
    }
   ],
   "source": [
    "# INPUTTING DAT FROM USER\n",
    "name=input()\n",
    "print(name)\n",
    "### Python takes input bydefault as string class , ,so we need to typecast it as\n",
    "print(\"ENTER THE AGE\")\n",
    "name=input()\n",
    "age=int(name)\n",
    "print (age)\n",
    "\n",
    "## To input as integer\n",
    "print(\"Type again the age\")\n",
    "name=int(input())\n",
    "print(\"Your age is \",name)"
   ]
  },
  {
   "cell_type": "code",
   "execution_count": 9,
   "metadata": {},
   "outputs": [
    {
     "name": "stdout",
     "output_type": "stream",
     "text": [
      "['10,20,30,40,100']\n",
      "['10,20,30,40,100']\n",
      "10 20 30 31 32 33 36 \n"
     ]
    }
   ],
   "source": [
    "# Using split() function\n",
    "l=\"10,20,30,40,100\".split()\n",
    "print(l)\n",
    "numbers=[no for no in l]\n",
    "print(numbers)\n",
    "# here we iterating over no as numbers in no\n",
    "\n",
    "#for input from user side\n",
    "numbers=[int(no)for no in input().split()]\n",
    "#split() function splits into string"
   ]
  },
  {
   "cell_type": "code",
   "execution_count": 10,
   "metadata": {},
   "outputs": [],
   "source": [
    "### hello this is marked cell"
   ]
  },
  {
   "cell_type": "code",
   "execution_count": 11,
   "metadata": {},
   "outputs": [
    {
     "data": {
      "text/plain": [
       "3"
      ]
     },
     "execution_count": 11,
     "metadata": {},
     "output_type": "execute_result"
    }
   ],
   "source": [
    "## In python // is floor division opertsor , it rounds off the number\n",
    "10//3"
   ]
  },
  {
   "cell_type": "code",
   "execution_count": 1,
   "metadata": {},
   "outputs": [
    {
     "name": "stdout",
     "output_type": "stream",
     "text": [
      "a is 10 and b is 30 \n",
      "Either a is 10 or b is 30\n"
     ]
    }
   ],
   "source": [
    "# and AND or logical operators\n",
    "a=10 \n",
    "b=30\n",
    "if a==10 and b==30 :\n",
    "    print(\"a is 10 and b is 30 \")\n",
    "if a==10 or b==30 :\n",
    "    print(\"Either a is 10 or b is 30\")\n",
    "else : \n",
    "    print(\"a is not 10 and b is also not 30\")"
   ]
  },
  {
   "cell_type": "code",
   "execution_count": 2,
   "metadata": {},
   "outputs": [
    {
     "name": "stdout",
     "output_type": "stream",
     "text": [
      "1\n",
      "2\n",
      "4\n",
      "8\n"
     ]
    }
   ],
   "source": [
    "#while and for loop in python\n",
    "i=1\n",
    "while(i<=10):\n",
    "    print(i)\n",
    "    i*=2"
   ]
  },
  {
   "cell_type": "code",
   "execution_count": 4,
   "metadata": {},
   "outputs": [
    {
     "name": "stdout",
     "output_type": "stream",
     "text": [
      "PLEASE ENTER THE NUMBER TO PRINT ITS FACTORIAL\n",
      "3\n",
      "Factorial of 3 is 6.\n"
     ]
    }
   ],
   "source": [
    "# for loop using range(i,j,k) function , here i is the initial condition , loop will run till j-1 and k is updation in i\n",
    "#Sample proggramm for factorial\n",
    "print(\"PLEASE ENTER THE NUMBER TO PRINT ITS FACTORIAL\")\n",
    "no=int(input())\n",
    "ans=1\n",
    "for i in range(1,no+1) :\n",
    "    ans*=i\n",
    "print(\"Factorial of {} is {}.\".format(no,ans))"
   ]
  },
  {
   "cell_type": "code",
   "execution_count": 1,
   "metadata": {},
   "outputs": [
    {
     "ename": "NameError",
     "evalue": "name 'printt' is not defined",
     "output_type": "error",
     "traceback": [
      "\u001b[1;31m---------------------------------------------------------------------------\u001b[0m",
      "\u001b[1;31mNameError\u001b[0m                                 Traceback (most recent call last)",
      "\u001b[1;32m<ipython-input-1-f5afcd9de038>\u001b[0m in \u001b[0;36m<module>\u001b[1;34m\u001b[0m\n\u001b[0;32m      1\u001b[0m \u001b[1;31m# printing prime numbers using python\u001b[0m\u001b[1;33m\u001b[0m\u001b[1;33m\u001b[0m\u001b[1;33m\u001b[0m\u001b[0m\n\u001b[1;32m----> 2\u001b[1;33m \u001b[0mprintt\u001b[0m\u001b[1;33m(\u001b[0m\u001b[1;34m\"Please Input the Number Uptil when you want to print prime Numbers.\"\u001b[0m\u001b[1;33m)\u001b[0m\u001b[1;33m\u001b[0m\u001b[1;33m\u001b[0m\u001b[0m\n\u001b[0m\u001b[0;32m      3\u001b[0m \u001b[0mn\u001b[0m\u001b[1;33m=\u001b[0m\u001b[0mint\u001b[0m\u001b[1;33m(\u001b[0m\u001b[0minput\u001b[0m\u001b[1;33m(\u001b[0m\u001b[1;33m)\u001b[0m\u001b[1;33m)\u001b[0m\u001b[1;33m\u001b[0m\u001b[1;33m\u001b[0m\u001b[0m\n",
      "\u001b[1;31mNameError\u001b[0m: name 'printt' is not defined"
     ]
    }
   ],
   "source": [
    "# printing prime numbers using python\n",
    "print(\"Please Input the Number Uptil when you want to print prime Numbers.\")\n",
    "n=int(input())\n"
   ]
  },
  {
   "cell_type": "code",
   "execution_count": 2,
   "metadata": {},
   "outputs": [
    {
     "name": "stdout",
     "output_type": "stream",
     "text": [
      "10\n"
     ]
    }
   ],
   "source": [
    "# STRINGS IN PYTHON\n",
    "# len() FUNCTION IS USED HERE FOR CALCULATING THE LENGTH OF STRING\n",
    "A = \"AANAND RAJ\"\n",
    "print(len(A))"
   ]
  },
  {
   "cell_type": "code",
   "execution_count": 3,
   "metadata": {},
   "outputs": [
    {
     "ename": "TypeError",
     "evalue": "'str' object does not support item assignment",
     "output_type": "error",
     "traceback": [
      "\u001b[1;31m---------------------------------------------------------------------------\u001b[0m",
      "\u001b[1;31mTypeError\u001b[0m                                 Traceback (most recent call last)",
      "\u001b[1;32m<ipython-input-3-1d602a24ddd3>\u001b[0m in \u001b[0;36m<module>\u001b[1;34m\u001b[0m\n\u001b[0;32m      1\u001b[0m \u001b[1;31m# STRINGS ARE NON MUTABLE ION PYTHON . WE CANNOT WRITE AS\u001b[0m\u001b[1;33m\u001b[0m\u001b[1;33m\u001b[0m\u001b[1;33m\u001b[0m\u001b[0m\n\u001b[1;32m----> 2\u001b[1;33m \u001b[0mA\u001b[0m\u001b[1;33m[\u001b[0m\u001b[1;36m2\u001b[0m\u001b[1;33m]\u001b[0m\u001b[1;33m=\u001b[0m\u001b[1;34m\"A\"\u001b[0m\u001b[1;33m\u001b[0m\u001b[1;33m\u001b[0m\u001b[0m\n\u001b[0m\u001b[0;32m      3\u001b[0m \u001b[0mprint\u001b[0m\u001b[1;33m(\u001b[0m\u001b[0mA\u001b[0m\u001b[1;33m)\u001b[0m\u001b[1;33m\u001b[0m\u001b[1;33m\u001b[0m\u001b[0m\n",
      "\u001b[1;31mTypeError\u001b[0m: 'str' object does not support item assignment"
     ]
    }
   ],
   "source": [
    "# STRINGS ARE NON MUTABLE ION PYTHON . WE CANNOT WRITE AS \n",
    "A[2]=\"A\"\n",
    "print(A)"
   ]
  },
  {
   "cell_type": "code",
   "execution_count": 4,
   "metadata": {},
   "outputs": [
    {
     "data": {
      "text/plain": [
       "'ANAND RAJ'"
      ]
     },
     "execution_count": 4,
     "metadata": {},
     "output_type": "execute_result"
    }
   ],
   "source": [
    "# WE CAN UPDATE THE SAME OBJECT BY NEWER DATA\n",
    "A=\"ANAND RAJ\"\n",
    "A"
   ]
  },
  {
   "cell_type": "code",
   "execution_count": 5,
   "metadata": {},
   "outputs": [
    {
     "name": "stdout",
     "output_type": "stream",
     "text": [
      "A\n",
      "N\n",
      "A\n",
      "N\n",
      "D\n",
      " \n",
      "R\n",
      "A\n",
      "J\n"
     ]
    }
   ],
   "source": [
    "# WE CAN ITERATE OVER TEH STRING ALSO BY USING FOR AND FOR EACH LOOP\n",
    "for i in range(len(A)):\n",
    "    print(A[i])"
   ]
  },
  {
   "cell_type": "code",
   "execution_count": 9,
   "metadata": {},
   "outputs": [
    {
     "name": "stdout",
     "output_type": "stream",
     "text": [
      "ANAND RAJANAND RAJANAND RAJANAND RAJANAND RAJ\n"
     ]
    }
   ],
   "source": [
    "print(A*5) # HERE *5 CREATES MULTIPLE COPIES OF THE STRING"
   ]
  },
  {
   "cell_type": "code",
   "execution_count": 10,
   "metadata": {},
   "outputs": [
    {
     "name": "stdout",
     "output_type": "stream",
     "text": [
      "ANAND RAJKRISHNA\n"
     ]
    }
   ],
   "source": [
    "# WE CAN ALSO CONCATINATE TWO STRINGS BY USING \"+\" OPERATOR\n",
    "B=\"KRISHNA\"\n",
    "print(A+B)"
   ]
  },
  {
   "cell_type": "code",
   "execution_count": 12,
   "metadata": {},
   "outputs": [
    {
     "data": {
      "text/plain": [
       "'NN '"
      ]
     },
     "execution_count": 12,
     "metadata": {},
     "output_type": "execute_result"
    }
   ],
   "source": [
    "#SLICING ON STRINGS AS : STRING [STARTING:ENDING+1:STEP]\n",
    "A[1:-2:2]"
   ]
  },
  {
   "cell_type": "code",
   "execution_count": 22,
   "metadata": {},
   "outputs": [
    {
     "name": "stdout",
     "output_type": "stream",
     "text": [
      "NO\n",
      "YES\n"
     ]
    }
   ],
   "source": [
    "# MEMBERSHIP OPERATOR IN STRINGS\n",
    "\n",
    "\"ND\" in A\n",
    "\n",
    "B=\"RAj\"\n",
    "if B in A :\n",
    "    print(\"YES\")\n",
    "else:\n",
    "    print(\"NO\")\n",
    "\n",
    "    \n",
    "# WE CAN USE not in ALSO AS :\n",
    "B=\"RAj\"\n",
    "if B not in A :\n",
    "    print(\"YES\")\n",
    "else:\n",
    "    print(\"NO\")\n",
    "    \n",
    "    \n",
    "# STRING FORMATTING i.e. %s HAS BEEN DISCUSSED IN 3RD COLUMN OF THIS ipnb"
   ]
  },
  {
   "cell_type": "code",
   "execution_count": 3,
   "metadata": {},
   "outputs": [
    {
     "name": "stdout",
     "output_type": "stream",
     "text": [
      "THIS IS EXAMPLE\n",
      "OF\n",
      "TRIPLE QUOTES\n"
     ]
    }
   ],
   "source": [
    "# TRIPLE QUOTES ARE USED TO WORK WITH STRINGS ON DIFFERENT LINES\n",
    "A = \"\"\"THIS IS EXAMPLE\n",
    "OF\n",
    "TRIPLE QUOTES\"\"\"\n",
    "print(A)"
   ]
  },
  {
   "cell_type": "code",
   "execution_count": 8,
   "metadata": {},
   "outputs": [
    {
     "name": "stdout",
     "output_type": "stream",
     "text": [
      "['THIS', 'IS', 'EXAMPLE', 'OF', 'TRIPLE', 'QUOTES']\n",
      "['THIS IS EXAMPLE', 'OF', 'TRIPLE QUOTES']\n",
      "<class 'list'>\n"
     ]
    }
   ],
   "source": [
    "# To split the string we use split() function and splitlines() is another method which will split the paragraph along lines\n",
    "l = A.split()\n",
    "print(l)\n",
    "l = A.splitlines()\n",
    "print(l)\n",
    "print(type(l))"
   ]
  },
  {
   "cell_type": "code",
   "execution_count": 3,
   "metadata": {},
   "outputs": [
    {
     "name": "stdout",
     "output_type": "stream",
     "text": [
      "(3+8j)\n"
     ]
    },
    {
     "data": {
      "text/plain": [
       "complex"
      ]
     },
     "execution_count": 3,
     "metadata": {},
     "output_type": "execute_result"
    }
   ],
   "source": [
    "##CPMPLEX NUBERS IN PYTHON\n",
    "a=1+3j\n",
    "b=2+5j\n",
    "print(a+b)\n",
    "type(a)"
   ]
  },
  {
   "cell_type": "code",
   "execution_count": 2,
   "metadata": {},
   "outputs": [
    {
     "name": "stdout",
     "output_type": "stream",
     "text": [
      "(-13+11j)\n"
     ]
    }
   ],
   "source": [
    "print(a*b)"
   ]
  },
  {
   "cell_type": "code",
   "execution_count": 1,
   "metadata": {},
   "outputs": [
    {
     "name": "stdout",
     "output_type": "stream",
     "text": [
      "0b101\n"
     ]
    }
   ],
   "source": [
    "print(bin(5))"
   ]
  },
  {
   "cell_type": "code",
   "execution_count": 2,
   "metadata": {},
   "outputs": [
    {
     "name": "stdout",
     "output_type": "stream",
     "text": [
      "5\n"
     ]
    }
   ],
   "source": [
    "print(int('0b101',2))"
   ]
  },
  {
   "cell_type": "code",
   "execution_count": null,
   "metadata": {},
   "outputs": [],
   "source": []
  }
 ],
 "metadata": {
  "kernelspec": {
   "display_name": "Python 3",
   "language": "python",
   "name": "python3"
  },
  "language_info": {
   "codemirror_mode": {
    "name": "ipython",
    "version": 3
   },
   "file_extension": ".py",
   "mimetype": "text/x-python",
   "name": "python",
   "nbconvert_exporter": "python",
   "pygments_lexer": "ipython3",
   "version": "3.8.2"
  }
 },
 "nbformat": 4,
 "nbformat_minor": 4
}
