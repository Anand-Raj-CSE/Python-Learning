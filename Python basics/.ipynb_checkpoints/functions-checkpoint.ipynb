{
 "cells": [
  {
   "cell_type": "code",
   "execution_count": 3,
   "metadata": {},
   "outputs": [],
   "source": [
    "def Example():\n",
    "    print(\"knock knock\")"
   ]
  },
  {
   "cell_type": "code",
   "execution_count": 4,
   "metadata": {},
   "outputs": [
    {
     "name": "stdout",
     "output_type": "stream",
     "text": [
      "knock knock\n"
     ]
    }
   ],
   "source": [
    "Example()"
   ]
  },
  {
   "cell_type": "markdown",
   "metadata": {},
   "source": [
    "# in python we need not send datatype as the argument in the functionS\n"
   ]
  },
  {
   "cell_type": "code",
   "execution_count": 26,
   "metadata": {},
   "outputs": [],
   "source": [
    "def Example(name,num) :\n",
    "    for i in range(num):\n",
    "        print(\"PASSED NAME IS : {} for {} time.\".format(name,i))"
   ]
  },
  {
   "cell_type": "code",
   "execution_count": 27,
   "metadata": {},
   "outputs": [
    {
     "name": "stdout",
     "output_type": "stream",
     "text": [
      "PASSED NAME IS : ANAND RAJ for 0 time.\n",
      "PASSED NAME IS : ANAND RAJ for 1 time.\n",
      "PASSED NAME IS : ANAND RAJ for 2 time.\n"
     ]
    }
   ],
   "source": [
    "Example(\"ANAND RAJ\",3)"
   ]
  },
  {
   "cell_type": "markdown",
   "metadata": {},
   "source": [
    "# If any parameter is not passed then we can also set default parameters\n"
   ]
  },
  {
   "cell_type": "code",
   "execution_count": 28,
   "metadata": {},
   "outputs": [
    {
     "name": "stdout",
     "output_type": "stream",
     "text": [
      "PASSED NAME IS : anand for 1 time.\n",
      "PASSED NAME IS : anand for 2 time.\n",
      "PASSED NAME IS : anand for 3 time.\n",
      "PASSED NAME IS : anand for 4 time.\n",
      "PASSED NAME IS : anand for 5 time.\n"
     ]
    }
   ],
   "source": [
    "def Example(name,num=3) :\n",
    "    for i in range(num):\n",
    "        print(\"PASSED NAME IS : {} for {} time.\".format(name,i+1))\n",
    "\n",
    "Example(\"anand\",5)"
   ]
  },
  {
   "cell_type": "markdown",
   "metadata": {},
   "source": [
    "# RETURNING A VALUE IN A FUNCTION "
   ]
  },
  {
   "cell_type": "code",
   "execution_count": 1,
   "metadata": {},
   "outputs": [
    {
     "name": "stdout",
     "output_type": "stream",
     "text": [
      "shyam radhe\n",
      "30\n"
     ]
    }
   ],
   "source": [
    "def sum(a,b):\n",
    "    return a+b\n",
    "\n",
    "a=\"shyam \"\n",
    "b=\"radhe\"\n",
    "print(sum(a,b))\n",
    "print(sum(10,20))"
   ]
  },
  {
   "cell_type": "markdown",
   "metadata": {},
   "source": [
    " # EXCEPTION HANDLING IN FUNCTIONS"
   ]
  },
  {
   "cell_type": "code",
   "execution_count": 2,
   "metadata": {},
   "outputs": [
    {
     "name": "stdout",
     "output_type": "stream",
     "text": [
      "WRAPPING UP\n"
     ]
    },
    {
     "data": {
      "text/plain": [
       "2.0"
      ]
     },
     "execution_count": 2,
     "metadata": {},
     "output_type": "execute_result"
    }
   ],
   "source": [
    "def div(a,b):\n",
    "    try:\n",
    "        return a/b\n",
    "    except:\n",
    "        print(\"ERROR\")\n",
    "    finally:\n",
    "        print(\"WRAPPING UP\")\n",
    "        \n",
    "        \n",
    "div(10,5)"
   ]
  },
  {
   "cell_type": "code",
   "execution_count": 3,
   "metadata": {},
   "outputs": [
    {
     "name": "stdout",
     "output_type": "stream",
     "text": [
      "ERROR\n",
      "WRAPPING UP\n"
     ]
    }
   ],
   "source": [
    "div(10,0)"
   ]
  },
  {
   "cell_type": "markdown",
   "metadata": {},
   "source": [
    "# FINALLY BLOCK WILL ALWAYS BE EXECUTED EVEN IF RETURN IS INCOUNTERED AND IF WE RETURN ANYTHING THEN THE REST RETURN STATEMENTS WILL BE DISCARDED AND THE VALUE RETURNED BY THE FINALLY BLOCK WILL BE RETURNED.\n"
   ]
  },
  {
   "cell_type": "code",
   "execution_count": 5,
   "metadata": {},
   "outputs": [
    {
     "name": "stdout",
     "output_type": "stream",
     "text": [
      "WRAPPING UP\n"
     ]
    },
    {
     "data": {
      "text/plain": [
       "100000000"
      ]
     },
     "execution_count": 5,
     "metadata": {},
     "output_type": "execute_result"
    }
   ],
   "source": [
    "def div(a,b):\n",
    "    try:\n",
    "        return a/b\n",
    "    except:\n",
    "        print(\"ERROR\")\n",
    "    finally:\n",
    "        print(\"WRAPPING UP\")\n",
    "        return 100000000\n",
    "        \n",
    "div(10,5)"
   ]
  },
  {
   "cell_type": "markdown",
   "metadata": {},
   "source": [
    "# WE CANNOT UPDATE GLOBAL VARIABLE IN ANY FUNCTION , TO UPDATE IT WE NEED TO WRITE global x"
   ]
  },
  {
   "cell_type": "code",
   "execution_count": 6,
   "metadata": {},
   "outputs": [
    {
     "name": "stdout",
     "output_type": "stream",
     "text": [
      "15\n"
     ]
    }
   ],
   "source": [
    "x=10\n",
    "def fun():\n",
    "    global x\n",
    "    x+=5\n",
    "    print(x)\n",
    "    \n",
    "    \n",
    "fun()"
   ]
  },
  {
   "cell_type": "markdown",
   "metadata": {},
   "source": [
    "# WE CAN HAVE INNER FUNCTIONS IN A FUNCTION , INNER FUNCTIONS CAN ACCESS THE OUTER FUNCTION BUT CANNOT UPDATE IT , TO UPDATE IT WE HAVE A KEYWORD , \"nonlocal\""
   ]
  },
  {
   "cell_type": "code",
   "execution_count": 12,
   "metadata": {},
   "outputs": [],
   "source": [
    "def outer():\n",
    "    x=10\n",
    "    def inner():\n",
    "        nonlocal x\n",
    "        x+=5\n",
    "        print(x)\n",
    "    inner()  # WE NEED TO CALL THE INNER FUNCTION FROM THE OUTER FUNCTION IN ORDER TO EXECUTE AND RUN IT."
   ]
  },
  {
   "cell_type": "code",
   "execution_count": 13,
   "metadata": {},
   "outputs": [
    {
     "name": "stdout",
     "output_type": "stream",
     "text": [
      "15\n"
     ]
    }
   ],
   "source": [
    "outer()"
   ]
  },
  {
   "cell_type": "markdown",
   "metadata": {},
   "source": [
    "# IN PYTHON WE CAN SAY THE INTERPRETER WHILE CALLING A FUNCTION CALLED \"KEYWORDED ARGUMENTS \""
   ]
  },
  {
   "cell_type": "code",
   "execution_count": 1,
   "metadata": {},
   "outputs": [
    {
     "name": "stdout",
     "output_type": "stream",
     "text": [
      "hello\n",
      "world\n",
      "1\n"
     ]
    }
   ],
   "source": [
    "def print2(a,b,c):\n",
    "    print(a)\n",
    "    print(b)\n",
    "    print(c)\n",
    "    \n",
    "    \n",
    "print2(b=\"world\",c=1,a=\"hello\")"
   ]
  },
  {
   "cell_type": "code",
   "execution_count": 1,
   "metadata": {},
   "outputs": [],
   "source": [
    "print?"
   ]
  },
  {
   "cell_type": "markdown",
   "metadata": {},
   "source": [
    "### WE CAN GIVE ANY NUMBERS OF ARGUMENTS , CALLED PACKING OF ARGUMENTS ...*args ARE POSITIONAL ARGUMENTS"
   ]
  },
  {
   "cell_type": "code",
   "execution_count": 2,
   "metadata": {},
   "outputs": [
    {
     "name": "stdout",
     "output_type": "stream",
     "text": [
      "(1, 2, 'anand')\n"
     ]
    }
   ],
   "source": [
    "def show(*args):\n",
    "    print(args)\n",
    "    \n",
    "show(1,2,\"anand\")"
   ]
  },
  {
   "cell_type": "markdown",
   "metadata": {},
   "source": [
    "# IF I NOW ACCEPT 3 SEPARATE VALUES IN A FUNCTION THEN THE FUNCTION WOULD NEED ATLEAST THREE VALUES AND REST WILL BE PACKED UNDER THE *args"
   ]
  },
  {
   "cell_type": "code",
   "execution_count": 5,
   "metadata": {},
   "outputs": [
    {
     "name": "stdout",
     "output_type": "stream",
     "text": [
      "('raj',)\n"
     ]
    }
   ],
   "source": [
    "def Show(a,b,c,*args):\n",
    "    print(args)\n",
    "    \n",
    "Show(1,2,\"anand\",'raj')"
   ]
  },
  {
   "cell_type": "markdown",
   "metadata": {},
   "source": [
    "# TO MODIFY OR TO GIVE VALUES TO THE KEYWORDED(OR DEFAULT) ARGUMENTS WE HAVE TO EXPLICITELY ASSIGN VALUES TO THEM WHILE CALLING THE FUNCTION"
   ]
  },
  {
   "cell_type": "code",
   "execution_count": 6,
   "metadata": {},
   "outputs": [
    {
     "name": "stdout",
     "output_type": "stream",
     "text": [
      "1\n",
      "(3, 'python')\n",
      "2000\n"
     ]
    }
   ],
   "source": [
    "def Show(a,b,*args,d=10,e=20):\n",
    "    print(a)\n",
    "    print(args)\n",
    "    print(d)\n",
    "    \n",
    "    \n",
    "Show(1,2,3,\"python\",d=2000)"
   ]
  },
  {
   "cell_type": "markdown",
   "metadata": {},
   "source": [
    "# **kwargs , ALL THE KEYWORDED ARGUMENTS IN FORM OF DICTIONARY IN THE **kwargs"
   ]
  },
  {
   "cell_type": "code",
   "execution_count": 8,
   "metadata": {},
   "outputs": [
    {
     "name": "stdout",
     "output_type": "stream",
     "text": [
      "1\n",
      "(3, 'python')\n",
      "2000\n",
      "{'name': 'anand'}\n"
     ]
    }
   ],
   "source": [
    "def Show(a,b,*args,d=10,e=20,**kwargs):\n",
    "    print(a)\n",
    "    print(args)\n",
    "    print(d)\n",
    "    print(kwargs)\n",
    "    \n",
    "Show(1,2,3,\"python\",d=2000,name=\"anand\")"
   ]
  },
  {
   "cell_type": "markdown",
   "metadata": {},
   "source": [
    " # LAMBDA FUNCTIONS , ONE-LINER FUNCTION , SYNTACTICAL SUGARS : THERE WILL BE ONLY LINE IN THE FUNCTION AND THAT LINE WILL BE EVALUATED AND RETURNED"
   ]
  },
  {
   "cell_type": "code",
   "execution_count": 11,
   "metadata": {},
   "outputs": [
    {
     "name": "stdout",
     "output_type": "stream",
     "text": [
      "100050\n",
      "<function <lambda> at 0x00000245834385E0>\n"
     ]
    }
   ],
   "source": [
    "add = lambda a,b,c,d:a+b+c+d\n",
    "\n",
    "print(add(10,20,100000,20))\n",
    "print(add)"
   ]
  },
  {
   "cell_type": "code",
   "execution_count": 12,
   "metadata": {},
   "outputs": [
    {
     "data": {
      "text/plain": [
       "[('abhinav', 90), ('abhishek', 99), ('anand', 98), ('anurag', 86)]"
      ]
     },
     "execution_count": 12,
     "metadata": {},
     "output_type": "execute_result"
    }
   ],
   "source": [
    "a=[(\"anand\",98),(\"anurag\",86),(\"abhinav\",90),(\"abhishek\",99)]\n",
    "sorted(a) # this sorted will compare on based on name"
   ]
  },
  {
   "cell_type": "code",
   "execution_count": 13,
   "metadata": {},
   "outputs": [
    {
     "data": {
      "text/plain": [
       "[('anurag', 86), ('abhinav', 90), ('anand', 98), ('abhishek', 99)]"
      ]
     },
     "execution_count": 13,
     "metadata": {},
     "output_type": "execute_result"
    }
   ],
   "source": [
    "sorted(a,key=lambda x:x[1]) # this will sort according to marks"
   ]
  },
  {
   "cell_type": "markdown",
   "metadata": {},
   "source": [
    "# DECORATERS             A FUNCTION WHICH WILL GET EXECUTED WHEN CORRECT USERS ARE PROVIDED"
   ]
  },
  {
   "cell_type": "code",
   "execution_count": 19,
   "metadata": {},
   "outputs": [
    {
     "name": "stdout",
     "output_type": "stream",
     "text": [
      "anand\n",
      "password\n",
      "CORRECT LOGIN\n"
     ]
    }
   ],
   "source": [
    "users = {\n",
    "    \"anand\":\"password\",\n",
    "    \"saumya\":\"popat\"\n",
    "}\n",
    "\n",
    "def Show(username,password):\n",
    "    if username in users and users[username]==password:\n",
    "        print(\"CORRECT LOGIN\")\n",
    "    else:\n",
    "        print(\"INVALID LOGIN\")\n",
    "        \n",
    "        \n",
    "Show(input(),input())"
   ]
  },
  {
   "cell_type": "markdown",
   "metadata": {},
   "source": [
    "# args WILL ALWAYS WRAP UP ALL THE PSITIONAL ARGUMENTS INTO A TOUPLE AND kwargs  TAKES AS DICTIONARY , IF WE DO *args THEN IT WILL INSTEAD CONVERT IT INTO POSITIONAL ARGUMENTS"
   ]
  },
  {
   "cell_type": "code",
   "execution_count": 9,
   "metadata": {},
   "outputs": [
    {
     "name": "stdout",
     "output_type": "stream",
     "text": [
      "((1, 2, 3),)\n",
      "{'b': (1, 2, 3, 54)}\n",
      "\n",
      "(1, 2, 3)\n",
      "{'b': (1, 2, 3, 54)}\n"
     ]
    }
   ],
   "source": [
    "def show(*args,**kwargs):\n",
    "    print(args)\n",
    "    print(kwargs)\n",
    "    \n",
    "    \n",
    "a=(1,2,3)\n",
    "show(a,b=(1,2,3,54))\n",
    "print()\n",
    "show(*a,b=(1,2,3,54))"
   ]
  },
  {
   "cell_type": "code",
   "execution_count": 14,
   "metadata": {},
   "outputs": [],
   "source": [
    "def tem(func):\n",
    "    def wrapper(username,password,*args,**kwargs):\n",
    "        if username in users and users[username]==password:\n",
    "            func(*args,**kwargs)\n",
    "        else:\n",
    "            print(\"INVALID LOGIN\")\n",
    "    return wrapper"
   ]
  },
  {
   "cell_type": "code",
   "execution_count": 15,
   "metadata": {},
   "outputs": [],
   "source": [
    "def add (a,b):\n",
    "    print(a+b)"
   ]
  },
  {
   "cell_type": "code",
   "execution_count": 16,
   "metadata": {},
   "outputs": [
    {
     "data": {
      "text/plain": [
       "<function __main__.tem.<locals>.wrapper(username, password, *args, **kwargs)>"
      ]
     },
     "execution_count": 16,
     "metadata": {},
     "output_type": "execute_result"
    }
   ],
   "source": [
    "tem(add)"
   ]
  },
  {
   "cell_type": "code",
   "execution_count": 17,
   "metadata": {},
   "outputs": [],
   "source": [
    "protected_add=tem(add)"
   ]
  },
  {
   "cell_type": "code",
   "execution_count": 23,
   "metadata": {},
   "outputs": [
    {
     "name": "stdout",
     "output_type": "stream",
     "text": [
      "anand\n",
      "password\n",
      "101\n",
      "1\n",
      "102\n"
     ]
    }
   ],
   "source": [
    "protected_add(input(),input(),int(input()),int(input()))"
   ]
  },
  {
   "cell_type": "code",
   "execution_count": 32,
   "metadata": {},
   "outputs": [],
   "source": [
    "@tem\n",
    "def add(a,b):\n",
    "     print(a+b)"
   ]
  },
  {
   "cell_type": "code",
   "execution_count": 33,
   "metadata": {},
   "outputs": [
    {
     "name": "stdout",
     "output_type": "stream",
     "text": [
      "anand\n",
      "password\n",
      "3000\n",
      "23\n",
      "300023\n"
     ]
    }
   ],
   "source": [
    "add(input(),input(),input(),input())"
   ]
  },
  {
   "cell_type": "code",
   "execution_count": null,
   "metadata": {},
   "outputs": [],
   "source": []
  },
  {
   "cell_type": "code",
   "execution_count": null,
   "metadata": {},
   "outputs": [],
   "source": []
  },
  {
   "cell_type": "code",
   "execution_count": null,
   "metadata": {},
   "outputs": [],
   "source": []
  },
  {
   "cell_type": "code",
   "execution_count": null,
   "metadata": {},
   "outputs": [],
   "source": []
  }
 ],
 "metadata": {
  "kernelspec": {
   "display_name": "Python 3",
   "language": "python",
   "name": "python3"
  },
  "language_info": {
   "codemirror_mode": {
    "name": "ipython",
    "version": 3
   },
   "file_extension": ".py",
   "mimetype": "text/x-python",
   "name": "python",
   "nbconvert_exporter": "python",
   "pygments_lexer": "ipython3",
   "version": "3.8.2"
  }
 },
 "nbformat": 4,
 "nbformat_minor": 4
}
