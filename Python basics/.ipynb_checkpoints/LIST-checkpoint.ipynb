{
 "cells": [
  {
   "cell_type": "code",
   "execution_count": 7,
   "metadata": {},
   "outputs": [
    {
     "name": "stdout",
     "output_type": "stream",
     "text": [
      "<class 'list'>\n",
      "[1, 5, 9, 'hello']\n",
      "<class 'list'>\n",
      "[1, 2, '569ojs']\n",
      "[1, 2, '569ojs', 1, 5, 9, 'hello']\n",
      "[1, 2, '569ojs', 1, 5, 9, 'hello', 1, 5, 9, 'hello']\n"
     ]
    }
   ],
   "source": [
    "# LIST - A HETROGENEOUS ARRAY\n",
    "mylist=[1,5,9,\"hello\"]\n",
    "print(type(mylist))\n",
    "print(mylist)\n",
    "l2=list([1,2,\"569ojs\"])\n",
    "print(type(l2))\n",
    "print(l2)\n",
    "l3=list(l2)\n",
    "l3=l2+mylist\n",
    "print(l3)\n",
    "l3.extend(mylist)\n",
    "print(l3)"
   ]
  },
  {
   "cell_type": "code",
   "execution_count": 3,
   "metadata": {},
   "outputs": [
    {
     "name": "stdout",
     "output_type": "stream",
     "text": [
      "[1, 4, 9, 16, 25]\n"
     ]
    }
   ],
   "source": [
    "# Suppose we want to enter square of numbers in a list from 1 to 5\n",
    "l4=[i*i for i in range (1,6) ]\n",
    "print(l4)"
   ]
  },
  {
   "cell_type": "code",
   "execution_count": 6,
   "metadata": {},
   "outputs": [
    {
     "name": "stdout",
     "output_type": "stream",
     "text": [
      "[9, 16, 25]\n"
     ]
    }
   ],
   "source": [
    "# SLICING IS EXACTLY SAME IN LIST AS IN THE STRING [0:4] AS IT WILL PRINT THE ELEMENTS IN THE LIST FROM 0 TO 3RD INDEX \n",
    "print(l4[-3:])"
   ]
  },
  {
   "cell_type": "code",
   "execution_count": 26,
   "metadata": {},
   "outputs": [
    {
     "name": "stdout",
     "output_type": "stream",
     "text": [
      "[1, 2, 3]\n",
      "[1, 2, 30, 3, ['hello', 'kie']]\n",
      "3\n"
     ]
    }
   ],
   "source": [
    "# FOR INSERTION AND DELETION WE HAVE VARIOUS METHODS \n",
    "# 1.append\n",
    "l=[1,2]\n",
    "l.append(3)\n",
    "print(l)\n",
    "\n",
    "# insert(position,data)\n",
    "l.insert(2,30)\n",
    "\n",
    "l.append([\"hello\",\"kie\"]) # l BECOMES NESTED LIST\n",
    "print(l)\n",
    "l+=[4,5,6]\n",
    "# HERE 3rd INDEX IS HAVING [\"hello\",\"kie\"]\n",
    "print(l[3])"
   ]
  },
  {
   "cell_type": "code",
   "execution_count": 27,
   "metadata": {},
   "outputs": [
    {
     "name": "stdout",
     "output_type": "stream",
     "text": [
      "[1, 30, 3, ['hello', 'kie'], 4, 5, 6]\n",
      "[1, 30, ['hello', 'kie'], 4, 5, 6]\n"
     ]
    },
    {
     "data": {
      "text/plain": [
       "6"
      ]
     },
     "execution_count": 27,
     "metadata": {},
     "output_type": "execute_result"
    }
   ],
   "source": [
    "#2.remove function\n",
    "l.remove(2)\n",
    "print(l)\n",
    "\n",
    "# DELETING FROM A SPECIFIC LOCATION WE USE del\n",
    "del l[2]\n",
    "print(l)\n",
    "\n",
    "#pop function deletes elemnt in last\n",
    "l.pop()"
   ]
  },
  {
   "cell_type": "code",
   "execution_count": 28,
   "metadata": {},
   "outputs": [
    {
     "name": "stdout",
     "output_type": "stream",
     "text": [
      "[1, 30, ['hello', 'kie'], 4, 5, 1, 30, ['hello', 'kie'], 4, 5, 1, 30, ['hello', 'kie'], 4, 5, 1, 30, ['hello', 'kie'], 4, 5]\n"
     ]
    }
   ],
   "source": [
    "l=l*4\n",
    "print(l) # IT REPEATES THE LIST 4 TIMES"
   ]
  },
  {
   "cell_type": "code",
   "execution_count": 29,
   "metadata": {},
   "outputs": [],
   "source": [
    "# WE CAN SEE FOR AN ELEMENT WHEATHER IT IS PRESENT OR NOT\n",
    "fruits=[\"APPLE\",\"GUAVA\",\"ORANGE\",\"MANGO \",80]\n",
    "if (80 in fruits):\n",
    "    fruits.pop()"
   ]
  },
  {
   "cell_type": "code",
   "execution_count": 25,
   "metadata": {},
   "outputs": [
    {
     "name": "stdout",
     "output_type": "stream",
     "text": [
      "APPLE\n",
      "GUAVA\n",
      "ORANGE\n",
      "MANGO \n",
      "\n",
      "APPLE\n",
      "GUAVA\n",
      "ORANGE\n",
      "MANGO \n"
     ]
    }
   ],
   "source": [
    "for i in range(len(fruits)) :\n",
    "    print(fruits[i])\n",
    "print()\n",
    "for x in fruits:\n",
    "    print(x)"
   ]
  },
  {
   "cell_type": "code",
   "execution_count": 43,
   "metadata": {},
   "outputs": [
    {
     "name": "stdout",
     "output_type": "stream",
     "text": [
      "1\n",
      "63\n",
      "4\n"
     ]
    }
   ],
   "source": [
    "# min AND max , index GIVES THE POSITION OF THAT ELEMENT\n",
    "l=[1,2,3,48,63,56]\n",
    "print(min(l))\n",
    "print(max(l))\n",
    "print(l.index(max(l)))"
   ]
  },
  {
   "cell_type": "code",
   "execution_count": 44,
   "metadata": {},
   "outputs": [
    {
     "name": "stdout",
     "output_type": "stream",
     "text": [
      "[1, 2, 3, 48, 56, 63]\n",
      "[89, 6, 5, 5, 4, 3, 2, 1]\n"
     ]
    }
   ],
   "source": [
    "# SORTING\n",
    "l=sorted(l)\n",
    "print(l)\n",
    "\n",
    "l=[3,6,89,5,4,5,2,1]\n",
    "l.sort(reverse=True)\n",
    "print(l)"
   ]
  },
  {
   "cell_type": "code",
   "execution_count": 46,
   "metadata": {},
   "outputs": [
    {
     "name": "stdout",
     "output_type": "stream",
     "text": [
      "1 4 5 98 9 85 56 6456 \n",
      "[1, 4, 5, 98, 9, 85, 56, 6456]\n",
      "<class 'list'>\n"
     ]
    }
   ],
   "source": [
    "# READING A LIST OF NUMBERS , THIS ONE IS IMPORTANT\n",
    "list = [int(num) for num in input().split() ]\n",
    "print(list)\n",
    "print(type(list))"
   ]
  },
  {
   "cell_type": "code",
   "execution_count": null,
   "metadata": {},
   "outputs": [],
   "source": []
  }
 ],
 "metadata": {
  "kernelspec": {
   "display_name": "Python 3",
   "language": "python",
   "name": "python3"
  },
  "language_info": {
   "codemirror_mode": {
    "name": "ipython",
    "version": 3
   },
   "file_extension": ".py",
   "mimetype": "text/x-python",
   "name": "python",
   "nbconvert_exporter": "python",
   "pygments_lexer": "ipython3",
   "version": "3.8.2"
  }
 },
 "nbformat": 4,
 "nbformat_minor": 4
}
