{
 "cells": [
  {
   "cell_type": "code",
   "execution_count": 1,
   "metadata": {},
   "outputs": [
    {
     "name": "stdout",
     "output_type": "stream",
     "text": [
      "0b101\n"
     ]
    }
   ],
   "source": [
    "print(bin(5))"
   ]
  },
  {
   "cell_type": "code",
   "execution_count": 2,
   "metadata": {},
   "outputs": [
    {
     "name": "stdout",
     "output_type": "stream",
     "text": [
      "5\n"
     ]
    }
   ],
   "source": [
    "print(int('0b101',2))"
   ]
  },
  {
   "cell_type": "code",
   "execution_count": 4,
   "metadata": {},
   "outputs": [],
   "source": [
    "long_strings = '''\n",
    "WOW\n",
    "0 0\n",
    "---\n",
    "'''"
   ]
  },
  {
   "cell_type": "code",
   "execution_count": 5,
   "metadata": {},
   "outputs": [
    {
     "name": "stdout",
     "output_type": "stream",
     "text": [
      "\n",
      "WOW\n",
      "0 0\n",
      "---\n",
      "\n"
     ]
    }
   ],
   "source": [
    "print(long_strings)"
   ]
  },
  {
   "cell_type": "code",
   "execution_count": 10,
   "metadata": {},
   "outputs": [
    {
     "name": "stdout",
     "output_type": "stream",
     "text": [
      "<class 'int'>\n"
     ]
    }
   ],
   "source": [
    "print(type(int (str(1000))))"
   ]
  },
  {
   "cell_type": "markdown",
   "metadata": {},
   "source": [
    "# ESCAPE SEQUENCE"
   ]
  },
  {
   "cell_type": "code",
   "execution_count": 3,
   "metadata": {},
   "outputs": [
    {
     "name": "stdout",
     "output_type": "stream",
     "text": [
      " It's kind of \"sunny\n"
     ]
    }
   ],
   "source": [
    "weather = \" It's kind of \\\"sunny\"\n",
    "print(weather)"
   ]
  },
  {
   "cell_type": "markdown",
   "metadata": {},
   "source": [
    "# FORMATTED STRING"
   ]
  },
  {
   "cell_type": "code",
   "execution_count": 7,
   "metadata": {},
   "outputs": [
    {
     "name": "stdout",
     "output_type": "stream",
     "text": [
      "hi Anamika. I think you are 19 Years Old\n",
      "hi Anamika. You are 19 Years old.\n"
     ]
    }
   ],
   "source": [
    "name=\"Anamika\"\n",
    "age = 19\n",
    "\n",
    "print(\"hi \"+ name + \". I think you are \" +str(age) + \" Years Old\")\n",
    "\n",
    "print(f'hi {name}. You are {age} Years old.') # Python 3 not in Python 2 had .format , also in Python 3"
   ]
  },
  {
   "cell_type": "code",
   "execution_count": 8,
   "metadata": {},
   "outputs": [
    {
     "name": "stdout",
     "output_type": "stream",
     "text": [
      "HI Anamika . You are 19 years old\n"
     ]
    }
   ],
   "source": [
    "print('HI {1} . You are {0} years old'.format(age,name))"
   ]
  },
  {
   "cell_type": "markdown",
   "metadata": {},
   "source": [
    "# IMMUTABILITY -  STRINGS IN PYTHON ARE IMMUTABLE  i.e. DON'T CHANGE"
   ]
  },
  {
   "cell_type": "code",
   "execution_count": 3,
   "metadata": {},
   "outputs": [
    {
     "name": "stdout",
     "output_type": "stream",
     "text": [
      "ananf\n"
     ]
    }
   ],
   "source": [
    "self='anand'\n",
    "#print(self[4]='f')\n",
    "self='ananf'\n",
    "print(self)"
   ]
  },
  {
   "cell_type": "code",
   "execution_count": 5,
   "metadata": {},
   "outputs": [
    {
     "name": "stdout",
     "output_type": "stream",
     "text": [
      "3\n",
      "20\n"
     ]
    }
   ],
   "source": [
    "print(round(3.1))\n",
    "\n",
    "print(abs(-20))"
   ]
  },
  {
   "cell_type": "code",
   "execution_count": 10,
   "metadata": {},
   "outputs": [
    {
     "name": "stdout",
     "output_type": "stream",
     "text": [
      "Swimming is the best exercise\n",
      "9\n",
      "swimming is the best exercise\n"
     ]
    }
   ],
   "source": [
    "y='swimming is the best exercise'\n",
    "print(y.capitalize())\n",
    "print(y.find('is'))\n",
    "print(y.replace('execise','workout'))"
   ]
  },
  {
   "cell_type": "code",
   "execution_count": 11,
   "metadata": {},
   "outputs": [
    {
     "name": "stdout",
     "output_type": "stream",
     "text": [
      "True\n"
     ]
    }
   ],
   "source": [
    "print(bool(1))"
   ]
  },
  {
   "cell_type": "code",
   "execution_count": 17,
   "metadata": {},
   "outputs": [
    {
     "name": "stdout",
     "output_type": "stream",
     "text": [
      "what year were you born? 2000\n",
      "Your age is : 20\n"
     ]
    }
   ],
   "source": [
    "birth=input('what year were you born? ')\n",
    "age = 2020 - int(birth)\n",
    "print(f'Your age is : {age}')"
   ]
  },
  {
   "cell_type": "code",
   "execution_count": 3,
   "metadata": {},
   "outputs": [
    {
     "name": "stdout",
     "output_type": "stream",
     "text": [
      "PLEASE ENTER YOUR USERNAMEANAND\n",
      "PLEASE ENTER YOUR PASSWORD12345678904561365415965441\n",
      "USERNAME : ANAND has password : ************************** of length 26\n"
     ]
    }
   ],
   "source": [
    "username = input('PLEASE ENTER YOUR USERNAME')\n",
    "password = input('PLEASE ENTER YOUR PASSWORD')\n",
    "print(f'USERNAME : {username} has password : '+'*'*len(password) + ' of length '+str(len(password)))"
   ]
  },
  {
   "cell_type": "code",
   "execution_count": 7,
   "metadata": {},
   "outputs": [
    {
     "name": "stdout",
     "output_type": "stream",
     "text": [
      "['key', 'oreo']\n",
      "['key', 'oreo']\n",
      "\n",
      "['key', 'oreo']\n",
      "['lay', 'oreo']\n"
     ]
    }
   ],
   "source": [
    "cart = ['hello','oreo']\n",
    "cart[0]='gum'\n",
    "new = cart\n",
    "new[0]='key'\n",
    "print(cart)\n",
    "print(new)\n",
    "\n",
    "new = cart[:] # CORRECT WAY OF COPYING A LIST\n",
    "print()\n",
    "new[0] = 'lay'\n",
    "print(cart)\n",
    "print(new)"
   ]
  },
  {
   "cell_type": "markdown",
   "metadata": {},
   "source": [
    "# MATRIX ->  A 2-D LIST"
   ]
  },
  {
   "cell_type": "code",
   "execution_count": 8,
   "metadata": {},
   "outputs": [
    {
     "data": {
      "text/plain": [
       "[[1, 2, 3], [4, 5, 6], [7, 8, 9]]"
      ]
     },
     "execution_count": 8,
     "metadata": {},
     "output_type": "execute_result"
    }
   ],
   "source": [
    "matrix =[\n",
    "    [1,2,3],\n",
    "    [4,5,6],\n",
    "    [7,8,9]\n",
    "    ]\n",
    "matrix"
   ]
  },
  {
   "cell_type": "code",
   "execution_count": 5,
   "metadata": {},
   "outputs": [
    {
     "name": "stdout",
     "output_type": "stream",
     "text": [
      "1\n",
      "hi 1my 1name 1 is1 ANAND .\n",
      " \n",
      "hi  my  name   is  ANAND .\n",
      "hi  my  name   is  ANAND .\n"
     ]
    }
   ],
   "source": [
    "sentence = '1'\n",
    "new_sentence = sentence.join(['hi ','my ','name ',' is',' ANAND .'])\n",
    "print(sentence)\n",
    "print(new_sentence)\n",
    "# WE GET ! BETWEEN EVERY ITERABLES WE JOIN.\n",
    "sentence = ' '\n",
    "new_sentence = sentence.join(['hi ','my ','name ',' is',' ANAND .'])\n",
    "print(sentence)\n",
    "print(new_sentence)\n",
    "# MORE SIMPLE WAY TO DO THAT IS \n",
    "new_sentence = ' '.join(['hi ','my ','name ',' is',' ANAND .'])\n",
    "print(new_sentence)"
   ]
  },
  {
   "cell_type": "code",
   "execution_count": 7,
   "metadata": {},
   "outputs": [
    {
     "name": "stdout",
     "output_type": "stream",
     "text": [
      "1\n",
      "2\n",
      "3\n",
      "[4, 5, 6, 7]\n",
      "8\n"
     ]
    }
   ],
   "source": [
    "# LIST UNPACKING \n",
    "A,B,C,*other ,D = [1,2,3,4,5,6,7,8]\n",
    "print(A)\n",
    "print(B)\n",
    "print(C)\n",
    "print(other)\n",
    "print(D)"
   ]
  },
  {
   "cell_type": "markdown",
   "metadata": {},
   "source": [
    "# Dictionaries : Key value pair , key is the string to receive a value . WE NEED TO HAVE UNIQUE KEY FOR EVERY DICTIONARY , IF DONE TWICE THEN THE VALUES GET OVERWRITTEN . "
   ]
  },
  {
   "cell_type": "code",
   "execution_count": 1,
   "metadata": {},
   "outputs": [
    {
     "name": "stdout",
     "output_type": "stream",
     "text": [
      "2\n"
     ]
    }
   ],
   "source": [
    "diction = {\n",
    "    'a' : 1,\n",
    "    'b' : 2\n",
    "}\n",
    "\n",
    "print(diction['b'])"
   ]
  },
  {
   "cell_type": "code",
   "execution_count": 3,
   "metadata": {},
   "outputs": [
    {
     "ename": "KeyError",
     "evalue": "'c'",
     "output_type": "error",
     "traceback": [
      "\u001b[1;31m---------------------------------------------------------------------------\u001b[0m",
      "\u001b[1;31mKeyError\u001b[0m                                  Traceback (most recent call last)",
      "\u001b[1;32m<ipython-input-3-1aba609f177c>\u001b[0m in \u001b[0;36m<module>\u001b[1;34m\u001b[0m\n\u001b[1;32m----> 1\u001b[1;33m \u001b[0mprint\u001b[0m\u001b[1;33m(\u001b[0m\u001b[0mdiction\u001b[0m\u001b[1;33m[\u001b[0m\u001b[1;34m'c'\u001b[0m\u001b[1;33m]\u001b[0m\u001b[1;33m)\u001b[0m\u001b[1;33m\u001b[0m\u001b[1;33m\u001b[0m\u001b[0m\n\u001b[0m",
      "\u001b[1;31mKeyError\u001b[0m: 'c'"
     ]
    }
   ],
   "source": [
    "print(diction['c'])"
   ]
  },
  {
   "cell_type": "code",
   "execution_count": 4,
   "metadata": {},
   "outputs": [
    {
     "name": "stdout",
     "output_type": "stream",
     "text": [
      "55\n"
     ]
    }
   ],
   "source": [
    "print(diction.get('age',55))"
   ]
  },
  {
   "cell_type": "code",
   "execution_count": 6,
   "metadata": {},
   "outputs": [
    {
     "name": "stdout",
     "output_type": "stream",
     "text": [
      "56\n"
     ]
    }
   ],
   "source": [
    "diction = {\n",
    "    'a' : 1,\n",
    "    'b' : 2,\n",
    "    'age' : 56\n",
    "}\n",
    "print(diction.get('age',55))# IT WOULD NOT TAKE 55 , IF AGE WAS NOT A KEY THEN IT WOULD HAVE TAKEN 55"
   ]
  },
  {
   "cell_type": "code",
   "execution_count": 9,
   "metadata": {},
   "outputs": [
    {
     "name": "stdout",
     "output_type": "stream",
     "text": [
      "{'age': 22}\n"
     ]
    }
   ],
   "source": [
    "USER2 = dict(age = 22)\n",
    "print(USER2)"
   ]
  },
  {
   "cell_type": "code",
   "execution_count": 15,
   "metadata": {},
   "outputs": [
    {
     "name": "stdout",
     "output_type": "stream",
     "text": [
      "False\n",
      "True\n"
     ]
    }
   ],
   "source": [
    "print('ag' in  USER2)# ALSO CAN BE USER2.keys()\n",
    "print(22 in  USER2.values())"
   ]
  },
  {
   "cell_type": "code",
   "execution_count": 17,
   "metadata": {},
   "outputs": [
    {
     "name": "stdout",
     "output_type": "stream",
     "text": [
      "22\n"
     ]
    },
    {
     "data": {
      "text/plain": [
       "{}"
      ]
     },
     "execution_count": 17,
     "metadata": {},
     "output_type": "execute_result"
    }
   ],
   "source": [
    "print(USER2.pop(\"age\"))\n",
    "USER2"
   ]
  },
  {
   "cell_type": "markdown",
   "metadata": {},
   "source": [
    "# SET - UNORDERED COLLECTION OF UNIQUE OBJECTS"
   ]
  },
  {
   "cell_type": "code",
   "execution_count": 1,
   "metadata": {},
   "outputs": [
    {
     "name": "stdout",
     "output_type": "stream",
     "text": [
      "{1, 2, 3, 4, 5, 6, 7, 8, 9}\n"
     ]
    }
   ],
   "source": [
    "my_set = {1,2,3,4,5,6,7,8,9,9}\n",
    "print(my_set) # ALWAYS RETURNS UNIQUE OBJECTS\n"
   ]
  },
  {
   "cell_type": "code",
   "execution_count": 4,
   "metadata": {},
   "outputs": [
    {
     "name": "stdout",
     "output_type": "stream",
     "text": [
      "{1, 2, 3, 4, 5, 6, 7, 8, 9}\n"
     ]
    }
   ],
   "source": [
    "#REMOVING ALL THE DUPLICATES FROM THE LIST\n",
    "my_list = [1,2,3,4,5,6,7,8,9,9,9,9,9]\n",
    "print(set(my_list))# IT ONLY SHOWS UNIQUE ELEMENTS NOT REMOVES THEM FROM LIST"
   ]
  },
  {
   "cell_type": "code",
   "execution_count": 8,
   "metadata": {},
   "outputs": [
    {
     "name": "stdout",
     "output_type": "stream",
     "text": [
      "True\n",
      "[1, 2, 3, 4, 5, 6, 7, 8, 9]\n",
      "{1, 2, 3, 4, 5, 6, 7, 8, 9}\n",
      "{1, 2, 3, 4, 5, 6, 7, 8, 9}\n"
     ]
    }
   ],
   "source": [
    "print(1 in my_list)\n",
    "print(list(my_set))\n",
    "new_set = my_set.copy()\n",
    "print(new_set)\n",
    "print(my_set)"
   ]
  },
  {
   "cell_type": "markdown",
   "metadata": {},
   "source": [
    "# METHODS IN SETS"
   ]
  },
  {
   "cell_type": "code",
   "execution_count": 20,
   "metadata": {},
   "outputs": [
    {
     "name": "stdout",
     "output_type": "stream",
     "text": [
      "{1, 2, 3, 4, 5, 6, 7, 8, 9, 99}\n",
      "None\n",
      "{1, 2, 3, 4, 6, 7, 8, 9, 99, 10, 11, 12}\n",
      "{10, 11, 12}\n",
      "{10, 11, 12}\n",
      "False\n"
     ]
    }
   ],
   "source": [
    "my_set = {1,2,3,4,5,6,7,8,9,99,10,11,12}\n",
    "your_set = {10,11,12,13,14,15,16,17,18,19,20}\n",
    "print(my_set.difference(your_set))\n",
    "print(my_set.discard(5))\n",
    "print(my_set)\n",
    "#print(my_set.difference_update(your_set))\n",
    "print(my_set.intersection(your_set))\n",
    "print(my_set & your_set)\n",
    "print(my_set.isdisjoint(your_set))"
   ]
  },
  {
   "cell_type": "code",
   "execution_count": 23,
   "metadata": {},
   "outputs": [
    {
     "name": "stdout",
     "output_type": "stream",
     "text": [
      "{1, 2, 3, 4, 6, 7, 8, 9, 10, 11, 12, 13, 14, 15, 16, 17, 18, 19, 20, 99}\n",
      "{1, 2, 3, 4, 6, 7, 8, 9, 10, 11, 12, 13, 14, 15, 16, 17, 18, 19, 20, 99}\n",
      "False\n",
      "False\n"
     ]
    }
   ],
   "source": [
    "print(my_set.union(your_set))\n",
    "print(my_set | your_set)\n",
    "print(my_set.issubset(your_set))\n",
    "print(your_set.issuperset(my_set))"
   ]
  },
  {
   "cell_type": "markdown",
   "metadata": {},
   "source": [
    "# TRUTHY AND FALSY"
   ]
  },
  {
   "cell_type": "code",
   "execution_count": 1,
   "metadata": {},
   "outputs": [
    {
     "name": "stdout",
     "output_type": "stream",
     "text": [
      "False\n",
      "False\n",
      "True\n",
      "True\n"
     ]
    }
   ],
   "source": [
    "print(bool(\"\")) # ANYTTHING EMPTY IS CONSIDERED AS FALSY , WHEATHER BE STRING , DICTIOPNARY OR TOUPLE\n",
    "print(bool(0))\n",
    "print(bool('hello'))\n",
    "print(bool(5))"
   ]
  },
  {
   "cell_type": "markdown",
   "metadata": {},
   "source": [
    "# TERNARY OPERATOR IN PYTHON"
   ]
  },
  {
   "cell_type": "code",
   "execution_count": 4,
   "metadata": {},
   "outputs": [
    {
     "name": "stdout",
     "output_type": "stream",
     "text": [
      "Messaging Allowed \n"
     ]
    }
   ],
   "source": [
    "is_friend = True\n",
    "can_message = \"Messaging Allowed \" if is_friend else \"Not Allowed to Message\"\n",
    "print(can_message)"
   ]
  },
  {
   "cell_type": "code",
   "execution_count": 5,
   "metadata": {},
   "outputs": [
    {
     "name": "stdout",
     "output_type": "stream",
     "text": [
      "False\n"
     ]
    }
   ],
   "source": [
    "print(1<2>3<4)"
   ]
  },
  {
   "cell_type": "code",
   "execution_count": 7,
   "metadata": {},
   "outputs": [
    {
     "name": "stdout",
     "output_type": "stream",
     "text": [
      "True\n"
     ]
    }
   ],
   "source": [
    "print(10==10.0)"
   ]
  },
  {
   "cell_type": "code",
   "execution_count": 9,
   "metadata": {},
   "outputs": [
    {
     "name": "stdout",
     "output_type": "stream",
     "text": [
      "True\n",
      "False\n"
     ]
    },
    {
     "name": "stderr",
     "output_type": "stream",
     "text": [
      "<>:1: SyntaxWarning: \"is\" with a literal. Did you mean \"==\"?\n",
      "<>:1: SyntaxWarning: \"is\" with a literal. Did you mean \"==\"?\n",
      "<ipython-input-9-24296c5d467e>:1: SyntaxWarning: \"is\" with a literal. Did you mean \"==\"?\n",
      "  print(10 is 10)\n"
     ]
    }
   ],
   "source": [
    "print(10 is 10)\n",
    "a=[1,2,3]\n",
    "b=[1,2,3]\n",
    "print(a is b) # False as both are different memory locations."
   ]
  },
  {
   "cell_type": "code",
   "execution_count": null,
   "metadata": {},
   "outputs": [],
   "source": []
  },
  {
   "cell_type": "code",
   "execution_count": null,
   "metadata": {},
   "outputs": [],
   "source": []
  },
  {
   "cell_type": "code",
   "execution_count": null,
   "metadata": {},
   "outputs": [],
   "source": []
  }
 ],
 "metadata": {
  "kernelspec": {
   "display_name": "Python 3",
   "language": "python",
   "name": "python3"
  },
  "language_info": {
   "codemirror_mode": {
    "name": "ipython",
    "version": 3
   },
   "file_extension": ".py",
   "mimetype": "text/x-python",
   "name": "python",
   "nbconvert_exporter": "python",
   "pygments_lexer": "ipython3",
   "version": "3.8.2"
  }
 },
 "nbformat": 4,
 "nbformat_minor": 4
}
