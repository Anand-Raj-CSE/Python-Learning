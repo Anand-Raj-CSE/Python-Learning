{
 "cells": [
  {
   "cell_type": "markdown",
   "metadata": {},
   "source": [
    "# Lambda Expressions / functions"
   ]
  },
  {
   "cell_type": "code",
   "execution_count": 3,
   "metadata": {},
   "outputs": [
    {
     "data": {
      "text/plain": [
       "<function __main__.<lambda>(param)>"
      ]
     },
     "execution_count": 3,
     "metadata": {},
     "output_type": "execute_result"
    }
   ],
   "source": [
    "lambda param: action(parameter)"
   ]
  },
  {
   "cell_type": "code",
   "execution_count": 4,
   "metadata": {},
   "outputs": [
    {
     "name": "stdout",
     "output_type": "stream",
     "text": [
      "[2, 4, 6]\n",
      "[1, 2, 3]\n"
     ]
    }
   ],
   "source": [
    "my_list = [1,2,3]\n",
    "def multi2(item):\n",
    "    return item*2\n",
    "\n",
    "print(list(map(lambda item:item*2,my_list))) # here we donot need to call the multi2 function.\n",
    "print(my_list)"
   ]
  },
  {
   "cell_type": "code",
   "execution_count": 5,
   "metadata": {},
   "outputs": [
    {
     "name": "stdout",
     "output_type": "stream",
     "text": [
      "6\n"
     ]
    }
   ],
   "source": [
    "from functools import reduce\n",
    "print(reduce(lambda acc,item:item+acc,my_list))"
   ]
  },
  {
   "cell_type": "code",
   "execution_count": 9,
   "metadata": {},
   "outputs": [
    {
     "name": "stdout",
     "output_type": "stream",
     "text": [
      "[1, 4, 9]\n"
     ]
    }
   ],
   "source": [
    "print(list(map(lambda item:item*item,my_list))) # square list of item in my_list"
   ]
  },
  {
   "cell_type": "code",
   "execution_count": 15,
   "metadata": {},
   "outputs": [
    {
     "name": "stdout",
     "output_type": "stream",
     "text": [
      "None\n",
      "[(10, -1), (0, 2), (4, 3), (9, 9)]\n"
     ]
    }
   ],
   "source": [
    "# SOrt the list according to the second key\n",
    "a = [(0,2), (4,3), (9,9) , (10,-1)]\n",
    "print(a.sort(key = lambda x:x[1])) #key is always going to be the second item \n",
    "print(a)"
   ]
  },
  {
   "cell_type": "markdown",
   "metadata": {},
   "source": [
    "# comprehensions - adding items to list / set / dictionary without looping or appending to the list / set / dictionary."
   ]
  },
  {
   "cell_type": "code",
   "execution_count": 16,
   "metadata": {},
   "outputs": [
    {
     "name": "stdout",
     "output_type": "stream",
     "text": [
      "['h', 'e', 'l', 'l', 'o']\n"
     ]
    }
   ],
   "source": [
    "my_list = []\n",
    "for char in 'hello':\n",
    "    my_list.append(char)\n",
    "print(my_list)"
   ]
  },
  {
   "cell_type": "code",
   "execution_count": 18,
   "metadata": {},
   "outputs": [
    {
     "name": "stdout",
     "output_type": "stream",
     "text": [
      "['h', 'e', 'l', 'l', 'o']\n"
     ]
    }
   ],
   "source": [
    "# now list comprehension\n",
    "# my_list = [parameter for char in iterable]\n",
    "my_list = [char for char in 'hello']\n",
    "print(my_list)"
   ]
  },
  {
   "cell_type": "code",
   "execution_count": 23,
   "metadata": {},
   "outputs": [
    {
     "name": "stdout",
     "output_type": "stream",
     "text": [
      "[0, 1, 2, 3, 4, 5, 6, 7, 8, 9, 10, 11, 12, 13, 14, 15, 16, 17, 18, 19]\n",
      "[0, 2, 4, 6, 8, 10, 12, 14, 16, 18, 20, 22, 24, 26, 28, 30, 32, 34, 36, 38]\n",
      "[0, 1, 4, 9, 16, 25, 36, 49, 64, 81, 100, 121, 144, 169, 196, 225, 256, 289, 324, 361]\n",
      "[0, 4, 16, 36, 64, 100, 144, 196, 256, 324]\n"
     ]
    }
   ],
   "source": [
    "my_list2 = [num for num in range(0,20)]\n",
    "print(my_list2)\n",
    "\n",
    "# doubling all the items in the my_list2 between 0 and 19\n",
    "my_list2 = [num*2 for num in range(0,20)]\n",
    "print(my_list2)\n",
    "\n",
    "#i want ot keep only the even numbers in squared form in my_list2 between 0 and 19\n",
    "my_list3 = [num**2 for num in range(0,20)]\n",
    "print(my_list3)\n",
    "my_list4 = [num**2 for num in range(0,20) if num % 2 ==0]\n",
    "print(my_list4)"
   ]
  },
  {
   "cell_type": "code",
   "execution_count": 31,
   "metadata": {},
   "outputs": [
    {
     "name": "stdout",
     "output_type": "stream",
     "text": [
      "{0, 64, 512, 1728, 4096, 8000, 10648, 13824, 8, 1000, 5832, 17576, 2744, 21952, 216}\n"
     ]
    }
   ],
   "source": [
    "# set comorehension , this would allow only unique items\n",
    "my_set = {char**3 for char in range(0,30) if char % 2 == 0}\n",
    "print(my_set)"
   ]
  },
  {
   "cell_type": "code",
   "execution_count": 36,
   "metadata": {},
   "outputs": [
    {
     "name": "stdout",
     "output_type": "stream",
     "text": [
      "{'b': 4}\n"
     ]
    }
   ],
   "source": [
    "# Dictioary Comprehension\n",
    "simple = {\n",
    "    'a':1,\n",
    "    'b':2\n",
    "}\n",
    "y_dict ={key:value**2 for key,value in simple.items() if value%2 == 0}\n",
    "print(y_dict)"
   ]
  },
  {
   "cell_type": "code",
   "execution_count": 38,
   "metadata": {},
   "outputs": [
    {
     "name": "stdout",
     "output_type": "stream",
     "text": [
      "{1: 1, 2: 4, 3: 9}\n"
     ]
    }
   ],
   "source": [
    "c = { num:num**2 for num in [1,2,3]} # num is key and num square is value\n",
    "print(c)"
   ]
  },
  {
   "cell_type": "code",
   "execution_count": 42,
   "metadata": {},
   "outputs": [
    {
     "name": "stdout",
     "output_type": "stream",
     "text": [
      "['d', 'e', 'f', 'm', 'm', 'n', 'd', 'e', 'f', 'n']\n",
      "['f', 'd', 'm', 'n', 'e']\n"
     ]
    }
   ],
   "source": [
    "# removing duplicates\n",
    "some_list = ['a','b' , 'c' , 'd' , 'e' , 'f', 'g', 'h' , 'i' ,'m' ,'j', 'm' ,'n' , 'd' , 'e' , 'f' ,'n']\n",
    "dupli = [x for x in some_list if some_list.count(x) > 1]\n",
    "print(dupli)\n",
    "new =set(dupli)\n",
    "print(list(new))"
   ]
  },
  {
   "cell_type": "markdown",
   "metadata": {},
   "source": [
    "# DECORATORS - @decorator_name , a function that has a function and it enhances it , supercharges the function"
   ]
  },
  {
   "cell_type": "code",
   "execution_count": 6,
   "metadata": {},
   "outputs": [
    {
     "name": "stdout",
     "output_type": "stream",
     "text": [
      "hello\n",
      "hello\n",
      "None\n"
     ]
    }
   ],
   "source": [
    "def hello():\n",
    "    print(\"hello\")\n",
    "    return\n",
    "hello()\n",
    "greet = hello # greet is now point to hello\n",
    "del hello # I am going to delete the name reference , howeverf greet is still pointing to hello()\n",
    "print(greet())\n"
   ]
  },
  {
   "cell_type": "code",
   "execution_count": 7,
   "metadata": {},
   "outputs": [
    {
     "name": "stdout",
     "output_type": "stream",
     "text": [
      "Still here!\n",
      "None\n"
     ]
    }
   ],
   "source": [
    "def hello(fun):\n",
    "    fun()\n",
    "    \n",
    "def greet():\n",
    "    print(\"Still here!\")\n",
    "    \n",
    "a = hello(greet)\n",
    "print(a)"
   ]
  },
  {
   "cell_type": "markdown",
   "metadata": {},
   "source": [
    "## Higher order function - A function that accepts another function as a parameter or returns a function , map - reduce and filter are higher order functions"
   ]
  },
  {
   "cell_type": "code",
   "execution_count": 8,
   "metadata": {},
   "outputs": [],
   "source": [
    "def greet(func):\n",
    "    func()\n",
    "    \n",
    "def greet2():\n",
    "    def func():\n",
    "        return 5\n",
    "    return func"
   ]
  },
  {
   "cell_type": "code",
   "execution_count": 18,
   "metadata": {},
   "outputs": [
    {
     "name": "stdout",
     "output_type": "stream",
     "text": [
      "\n",
      "*****************\n",
      "Hello\n",
      "*****************\n",
      "see you later\n"
     ]
    }
   ],
   "source": [
    "# DESIGNING OUR OWN OWN DECORATOR\n",
    "def my_decorator(func):\n",
    "    def wrap_function():\n",
    "        print('*****************')\n",
    "        func()\n",
    "        print('*****************')\n",
    "    return wrap_function\n",
    "\n",
    "@my_decorator\n",
    "def hello():\n",
    "    print(\"Hello\")\n",
    "\n",
    "print()\n",
    "@my_decorator\n",
    "def bye():\n",
    "    print(\"see you later\")\n",
    "    \n",
    "hello()\n",
    "bye()\n",
    "    "
   ]
  },
  {
   "cell_type": "code",
   "execution_count": 25,
   "metadata": {},
   "outputs": [
    {
     "name": "stdout",
     "output_type": "stream",
     "text": [
      "*****************\n",
      "Hello\n",
      "*****************\n"
     ]
    }
   ],
   "source": [
    "def my_decorator(func):\n",
    "    def wrap_function():\n",
    "        print('*****************')\n",
    "        func()\n",
    "        print('*****************')\n",
    "    return wrap_function\n",
    "\n",
    "def hello():\n",
    "    print(\"Hello\")\n",
    "hello2=my_decorator(hello)\n",
    "hello2()"
   ]
  },
  {
   "cell_type": "code",
   "execution_count": 26,
   "metadata": {},
   "outputs": [
    {
     "name": "stdout",
     "output_type": "stream",
     "text": [
      "*****************\n",
      "Hello\n",
      "*****************\n"
     ]
    }
   ],
   "source": [
    "def my_decorator(func):\n",
    "    def wrap_function():\n",
    "        print('*****************')\n",
    "        func()\n",
    "        print('*****************')\n",
    "    return wrap_function\n",
    "\n",
    "def hello():\n",
    "    print(\"Hello\")\n",
    "    \n",
    "my_decorator(hello)()"
   ]
  },
  {
   "cell_type": "code",
   "execution_count": 27,
   "metadata": {},
   "outputs": [
    {
     "name": "stdout",
     "output_type": "stream",
     "text": [
      "*****************\n",
      "hiiiiiiiiii :)\n",
      "*****************\n"
     ]
    }
   ],
   "source": [
    "def my_decorator(func):\n",
    "    def wrap_function(x,y):\n",
    "        print('*****************')\n",
    "        func(x,y)\n",
    "        print('*****************')\n",
    "    return wrap_function\n",
    "\n",
    "@my_decorator\n",
    "def hello(g,emoji):\n",
    "    print(g,emoji)\n",
    "\n",
    "hello('hiiiiiiiiii',':)')"
   ]
  },
  {
   "cell_type": "markdown",
   "metadata": {},
   "source": [
    "## In above examples we have to always add an extra variable which will always be needed to be written to simplyfy we would use *args and **kwargs when we have default or keywordered arguments"
   ]
  },
  {
   "cell_type": "code",
   "execution_count": 34,
   "metadata": {},
   "outputs": [
    {
     "name": "stdout",
     "output_type": "stream",
     "text": [
      "*****************\n",
      "hi :)\n",
      "*****************\n"
     ]
    }
   ],
   "source": [
    "\n",
    "def my_decorator(func):\n",
    "    def wrap_function(*args , **kwargs):\n",
    "        print('*****************')\n",
    "        func(*args , **kwargs)\n",
    "        print('*****************')\n",
    "    return wrap_function\n",
    "\n",
    "@my_decorator\n",
    "def hello(greet ,emoji = ':)'):\n",
    "    print(greet,emoji)\n",
    "\n",
    "hello('hi')"
   ]
  },
  {
   "cell_type": "markdown",
   "metadata": {},
   "source": [
    "## why we need decorators using performance decorator which tells how much the program takes time"
   ]
  },
  {
   "cell_type": "code",
   "execution_count": 35,
   "metadata": {},
   "outputs": [
    {
     "name": "stdout",
     "output_type": "stream",
     "text": [
      "It took 6.760749816894531  second\n"
     ]
    }
   ],
   "source": [
    "from time import time # import time module \n",
    "def performance(fn):\n",
    "    def wrap(*args,**kwargs):\n",
    "        t1 = time()\n",
    "        result = fn(*args,**kwargs)\n",
    "        t2 = time()\n",
    "        print(f'It took {t2-t1}  second')\n",
    "        return result\n",
    "    return wrap\n",
    "\n",
    "@performance # now we can give this performance decorator to any function to calculate its performance\n",
    "def long_time():\n",
    "    for i in range(100000000):\n",
    "        i*5\n",
    "        \n",
    "long_time()"
   ]
  },
  {
   "cell_type": "code",
   "execution_count": null,
   "metadata": {},
   "outputs": [],
   "source": []
  }
 ],
 "metadata": {
  "kernelspec": {
   "display_name": "Python 3",
   "language": "python",
   "name": "python3"
  },
  "language_info": {
   "codemirror_mode": {
    "name": "ipython",
    "version": 3
   },
   "file_extension": ".py",
   "mimetype": "text/x-python",
   "name": "python",
   "nbconvert_exporter": "python",
   "pygments_lexer": "ipython3",
   "version": "3.8.2"
  }
 },
 "nbformat": 4,
 "nbformat_minor": 4
}
