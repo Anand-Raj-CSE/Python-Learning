{
 "cells": [
  {
   "cell_type": "markdown",
   "metadata": {},
   "source": [
    "# Classes are sony televisions , various TV models are object and remote for each TV is reference variable.Class and objects have one to many relation as for 1 class there may be more objects.Object and reference may have many to one | one to one relation."
   ]
  },
  {
   "cell_type": "code",
   "execution_count": 1,
   "metadata": {},
   "outputs": [
    {
     "name": "stdout",
     "output_type": "stream",
     "text": [
      "Hello My name is :  Sunny\n",
      "My Roll No. is :  100\n"
     ]
    }
   ],
   "source": [
    "class Student:\n",
    "    '''This is doc string , simply a comment'''\n",
    "    def __init__(self,rollno,name):\n",
    "        self.rollno = rollno\n",
    "        self.name = name\n",
    "        \n",
    "    def talk(self):\n",
    "        print(\"Hello My name is : \",self.name)\n",
    "        print(\"My Roll No. is : \",self.rollno)\n",
    "        \n",
    "s = Student(100,'Sunny')\n",
    "s.talk()"
   ]
  },
  {
   "cell_type": "code",
   "execution_count": null,
   "metadata": {},
   "outputs": [],
   "source": []
  }
 ],
 "metadata": {
  "kernelspec": {
   "display_name": "Python 3",
   "language": "python",
   "name": "python3"
  },
  "language_info": {
   "codemirror_mode": {
    "name": "ipython",
    "version": 3
   },
   "file_extension": ".py",
   "mimetype": "text/x-python",
   "name": "python",
   "nbconvert_exporter": "python",
   "pygments_lexer": "ipython3",
   "version": "3.8.2"
  }
 },
 "nbformat": 4,
 "nbformat_minor": 4
}
