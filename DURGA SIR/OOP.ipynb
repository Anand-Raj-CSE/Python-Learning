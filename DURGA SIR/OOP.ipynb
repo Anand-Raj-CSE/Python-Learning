{
 "cells": [
  {
   "cell_type": "markdown",
   "metadata": {},
   "source": [
    "# Classes are sony televisions , various TV models are object and remote for each TV is reference variable.Class and objects have one to many relation as for 1 class there may be more objects.Object and reference may have many to one | one to one relation."
   ]
  },
  {
   "cell_type": "code",
   "execution_count": 1,
   "metadata": {},
   "outputs": [
    {
     "name": "stdout",
     "output_type": "stream",
     "text": [
      "Hello My name is :  Sunny\n",
      "My Roll No. is :  100\n"
     ]
    }
   ],
   "source": [
    "class Student:\n",
    "    '''This is doc string , simply a comment'''\n",
    "    def __init__(self,rollno,name):\n",
    "        self.rollno = rollno\n",
    "        self.name = name\n",
    "        \n",
    "    def talk(self):\n",
    "        print(\"Hello My name is : \",self.name)\n",
    "        print(\"My Roll No. is : \",self.rollno)\n",
    "        \n",
    "s = Student(100,'Sunny')\n",
    "s.talk()"
   ]
  },
  {
   "cell_type": "code",
   "execution_count": 2,
   "metadata": {},
   "outputs": [
    {
     "name": "stdout",
     "output_type": "stream",
     "text": [
      "hello\n"
     ]
    }
   ],
   "source": [
    "# We can access the class variables with class name\n",
    "class hello:\n",
    "    l = \"hello\"\n",
    "    \n",
    "print(hello.l)"
   ]
  },
  {
   "cell_type": "code",
   "execution_count": 6,
   "metadata": {},
   "outputs": [
    {
     "name": "stdout",
     "output_type": "stream",
     "text": [
      "hello\n"
     ]
    }
   ],
   "source": [
    "# We can access the private (hidden variables from the class also)\n",
    "class hello :\n",
    "    __l = \"hello\"\n",
    "    \n",
    "h = hello()\n",
    "print(h._hello__l) # There is nothing truly private in case of python"
   ]
  },
  {
   "cell_type": "markdown",
   "metadata": {},
   "source": [
    "# self is a reference variable which is used to refer or to point the current object.Python virtual machine always provides the self of that object.No need to provide it explicitely.'self' is not a keyword in python and like 'this' is keyword in c++ and JAVA."
   ]
  },
  {
   "cell_type": "code",
   "execution_count": 4,
   "metadata": {},
   "outputs": [
    {
     "name": "stdout",
     "output_type": "stream",
     "text": [
      "2657583664816\n",
      "2657583664816\n"
     ]
    }
   ],
   "source": [
    "class Student :\n",
    "    '''This is doc string'''\n",
    "    def __init__(self):\n",
    "        print(id(self))\n",
    "        \n",
    "s = Student()\n",
    "print(id(s)) # id gives us the memory address , id of self and s will be same."
   ]
  },
  {
   "cell_type": "code",
   "execution_count": 2,
   "metadata": {},
   "outputs": [
    {
     "name": "stdout",
     "output_type": "stream",
     "text": [
      "********************\n",
      "Employee Number :  100\n",
      "Employee Name :  Anand Raj\n",
      "Employee Salary :  110000\n",
      "Employee Address :  GHQ\n",
      "********************\n",
      "Employee Number :  101\n",
      "Employee Name :  Saumya Raje\n",
      "Employee Salary :  100000\n",
      "Employee Address :  GHQ\n"
     ]
    }
   ],
   "source": [
    "class Employee : \n",
    "    ''' doc string (description of the class)'''\n",
    "    def __init__(self,eno,ename,esal,eaddr):\n",
    "        self.eno = eno\n",
    "        self.ename = ename\n",
    "        self.esal = esal\n",
    "        self.eaddr = eaddr\n",
    "        \n",
    "    def info(self): \n",
    "        print('*'*20)\n",
    "        print('Employee Number : ',self.eno)\n",
    "        print('Employee Name : ',self.ename)\n",
    "        print('Employee Salary : ',self.esal)\n",
    "        print('Employee Address : ',self.eaddr)\n",
    "        \n",
    "e1 = Employee(100,'Anand Raj',110000,'GHQ')\n",
    "e2 = Employee(101,'Saumya Raje',100000,'GHQ')\n",
    "e1.info()\n",
    "e2.info()"
   ]
  },
  {
   "cell_type": "code",
   "execution_count": null,
   "metadata": {},
   "outputs": [],
   "source": []
  },
  {
   "cell_type": "code",
   "execution_count": null,
   "metadata": {},
   "outputs": [],
   "source": []
  }
 ],
 "metadata": {
  "kernelspec": {
   "display_name": "Python 3",
   "language": "python",
   "name": "python3"
  },
  "language_info": {
   "codemirror_mode": {
    "name": "ipython",
    "version": 3
   },
   "file_extension": ".py",
   "mimetype": "text/x-python",
   "name": "python",
   "nbconvert_exporter": "python",
   "pygments_lexer": "ipython3",
   "version": "3.8.2"
  }
 },
 "nbformat": 4,
 "nbformat_minor": 4
}
